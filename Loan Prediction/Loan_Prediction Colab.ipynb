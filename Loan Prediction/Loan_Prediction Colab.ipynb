{
  "cells": [
    {
      "cell_type": "code",
      "execution_count": null,
      "id": "4eb9593e",
      "metadata": {
        "id": "4eb9593e"
      },
      "outputs": [],
      "source": [
        "import pandas as pd\n",
        "import numpy as np\n",
        "import seaborn as sns\n",
        "import matplotlib.pyplot as plt\n",
        "%matplotlib inline\n",
        "import warnings\n",
        "warnings.filterwarnings('ignore')#ignores any warnings during execution\n",
        "train=pd.read_csv('Downloads/train_ctrUa4K.csv')#train df\n",
        "test=pd.read_csv(\"Downloads/test_lAUu6dG.csv\")#test df"
      ]
    },
    {
      "cell_type": "code",
      "execution_count": null,
      "id": "43b38c05",
      "metadata": {
        "id": "43b38c05",
        "outputId": "a37e3f08-2baf-4895-af37-b711c2f96bfb"
      },
      "outputs": [
        {
          "data": {
            "text/html": [
              "<div>\n",
              "<style scoped>\n",
              "    .dataframe tbody tr th:only-of-type {\n",
              "        vertical-align: middle;\n",
              "    }\n",
              "\n",
              "    .dataframe tbody tr th {\n",
              "        vertical-align: top;\n",
              "    }\n",
              "\n",
              "    .dataframe thead th {\n",
              "        text-align: right;\n",
              "    }\n",
              "</style>\n",
              "<table border=\"1\" class=\"dataframe\">\n",
              "  <thead>\n",
              "    <tr style=\"text-align: right;\">\n",
              "      <th></th>\n",
              "      <th>Loan_ID</th>\n",
              "      <th>Gender</th>\n",
              "      <th>Married</th>\n",
              "      <th>Dependents</th>\n",
              "      <th>Education</th>\n",
              "      <th>Self_Employed</th>\n",
              "      <th>ApplicantIncome</th>\n",
              "      <th>CoapplicantIncome</th>\n",
              "      <th>LoanAmount</th>\n",
              "      <th>Loan_Amount_Term</th>\n",
              "      <th>Credit_History</th>\n",
              "      <th>Property_Area</th>\n",
              "      <th>Loan_Status</th>\n",
              "    </tr>\n",
              "  </thead>\n",
              "  <tbody>\n",
              "    <tr>\n",
              "      <th>0</th>\n",
              "      <td>LP001002</td>\n",
              "      <td>Male</td>\n",
              "      <td>No</td>\n",
              "      <td>0</td>\n",
              "      <td>Graduate</td>\n",
              "      <td>No</td>\n",
              "      <td>5849</td>\n",
              "      <td>0.0</td>\n",
              "      <td>NaN</td>\n",
              "      <td>360.0</td>\n",
              "      <td>1.0</td>\n",
              "      <td>Urban</td>\n",
              "      <td>Y</td>\n",
              "    </tr>\n",
              "    <tr>\n",
              "      <th>1</th>\n",
              "      <td>LP001003</td>\n",
              "      <td>Male</td>\n",
              "      <td>Yes</td>\n",
              "      <td>1</td>\n",
              "      <td>Graduate</td>\n",
              "      <td>No</td>\n",
              "      <td>4583</td>\n",
              "      <td>1508.0</td>\n",
              "      <td>128.0</td>\n",
              "      <td>360.0</td>\n",
              "      <td>1.0</td>\n",
              "      <td>Rural</td>\n",
              "      <td>N</td>\n",
              "    </tr>\n",
              "    <tr>\n",
              "      <th>2</th>\n",
              "      <td>LP001005</td>\n",
              "      <td>Male</td>\n",
              "      <td>Yes</td>\n",
              "      <td>0</td>\n",
              "      <td>Graduate</td>\n",
              "      <td>Yes</td>\n",
              "      <td>3000</td>\n",
              "      <td>0.0</td>\n",
              "      <td>66.0</td>\n",
              "      <td>360.0</td>\n",
              "      <td>1.0</td>\n",
              "      <td>Urban</td>\n",
              "      <td>Y</td>\n",
              "    </tr>\n",
              "    <tr>\n",
              "      <th>3</th>\n",
              "      <td>LP001006</td>\n",
              "      <td>Male</td>\n",
              "      <td>Yes</td>\n",
              "      <td>0</td>\n",
              "      <td>Not Graduate</td>\n",
              "      <td>No</td>\n",
              "      <td>2583</td>\n",
              "      <td>2358.0</td>\n",
              "      <td>120.0</td>\n",
              "      <td>360.0</td>\n",
              "      <td>1.0</td>\n",
              "      <td>Urban</td>\n",
              "      <td>Y</td>\n",
              "    </tr>\n",
              "    <tr>\n",
              "      <th>4</th>\n",
              "      <td>LP001008</td>\n",
              "      <td>Male</td>\n",
              "      <td>No</td>\n",
              "      <td>0</td>\n",
              "      <td>Graduate</td>\n",
              "      <td>No</td>\n",
              "      <td>6000</td>\n",
              "      <td>0.0</td>\n",
              "      <td>141.0</td>\n",
              "      <td>360.0</td>\n",
              "      <td>1.0</td>\n",
              "      <td>Urban</td>\n",
              "      <td>Y</td>\n",
              "    </tr>\n",
              "  </tbody>\n",
              "</table>\n",
              "</div>"
            ],
            "text/plain": [
              "    Loan_ID Gender Married Dependents     Education Self_Employed  \\\n",
              "0  LP001002   Male      No          0      Graduate            No   \n",
              "1  LP001003   Male     Yes          1      Graduate            No   \n",
              "2  LP001005   Male     Yes          0      Graduate           Yes   \n",
              "3  LP001006   Male     Yes          0  Not Graduate            No   \n",
              "4  LP001008   Male      No          0      Graduate            No   \n",
              "\n",
              "   ApplicantIncome  CoapplicantIncome  LoanAmount  Loan_Amount_Term  \\\n",
              "0             5849                0.0         NaN             360.0   \n",
              "1             4583             1508.0       128.0             360.0   \n",
              "2             3000                0.0        66.0             360.0   \n",
              "3             2583             2358.0       120.0             360.0   \n",
              "4             6000                0.0       141.0             360.0   \n",
              "\n",
              "   Credit_History Property_Area Loan_Status  \n",
              "0             1.0         Urban           Y  \n",
              "1             1.0         Rural           N  \n",
              "2             1.0         Urban           Y  \n",
              "3             1.0         Urban           Y  \n",
              "4             1.0         Urban           Y  "
            ]
          },
          "execution_count": 41,
          "metadata": {},
          "output_type": "execute_result"
        }
      ],
      "source": [
        "train.head()"
      ]
    },
    {
      "cell_type": "code",
      "execution_count": null,
      "id": "6963b8de",
      "metadata": {
        "id": "6963b8de",
        "outputId": "e6932aca-8e6b-4cfc-de65-7ca3d9f6ee23"
      },
      "outputs": [
        {
          "data": {
            "text/html": [
              "<div>\n",
              "<style scoped>\n",
              "    .dataframe tbody tr th:only-of-type {\n",
              "        vertical-align: middle;\n",
              "    }\n",
              "\n",
              "    .dataframe tbody tr th {\n",
              "        vertical-align: top;\n",
              "    }\n",
              "\n",
              "    .dataframe thead th {\n",
              "        text-align: right;\n",
              "    }\n",
              "</style>\n",
              "<table border=\"1\" class=\"dataframe\">\n",
              "  <thead>\n",
              "    <tr style=\"text-align: right;\">\n",
              "      <th></th>\n",
              "      <th>Loan_ID</th>\n",
              "      <th>Gender</th>\n",
              "      <th>Married</th>\n",
              "      <th>Dependents</th>\n",
              "      <th>Education</th>\n",
              "      <th>Self_Employed</th>\n",
              "      <th>ApplicantIncome</th>\n",
              "      <th>CoapplicantIncome</th>\n",
              "      <th>LoanAmount</th>\n",
              "      <th>Loan_Amount_Term</th>\n",
              "      <th>Credit_History</th>\n",
              "      <th>Property_Area</th>\n",
              "    </tr>\n",
              "  </thead>\n",
              "  <tbody>\n",
              "    <tr>\n",
              "      <th>0</th>\n",
              "      <td>LP001015</td>\n",
              "      <td>Male</td>\n",
              "      <td>Yes</td>\n",
              "      <td>0</td>\n",
              "      <td>Graduate</td>\n",
              "      <td>No</td>\n",
              "      <td>5720</td>\n",
              "      <td>0</td>\n",
              "      <td>110.0</td>\n",
              "      <td>360.0</td>\n",
              "      <td>1.0</td>\n",
              "      <td>Urban</td>\n",
              "    </tr>\n",
              "    <tr>\n",
              "      <th>1</th>\n",
              "      <td>LP001022</td>\n",
              "      <td>Male</td>\n",
              "      <td>Yes</td>\n",
              "      <td>1</td>\n",
              "      <td>Graduate</td>\n",
              "      <td>No</td>\n",
              "      <td>3076</td>\n",
              "      <td>1500</td>\n",
              "      <td>126.0</td>\n",
              "      <td>360.0</td>\n",
              "      <td>1.0</td>\n",
              "      <td>Urban</td>\n",
              "    </tr>\n",
              "    <tr>\n",
              "      <th>2</th>\n",
              "      <td>LP001031</td>\n",
              "      <td>Male</td>\n",
              "      <td>Yes</td>\n",
              "      <td>2</td>\n",
              "      <td>Graduate</td>\n",
              "      <td>No</td>\n",
              "      <td>5000</td>\n",
              "      <td>1800</td>\n",
              "      <td>208.0</td>\n",
              "      <td>360.0</td>\n",
              "      <td>1.0</td>\n",
              "      <td>Urban</td>\n",
              "    </tr>\n",
              "    <tr>\n",
              "      <th>3</th>\n",
              "      <td>LP001035</td>\n",
              "      <td>Male</td>\n",
              "      <td>Yes</td>\n",
              "      <td>2</td>\n",
              "      <td>Graduate</td>\n",
              "      <td>No</td>\n",
              "      <td>2340</td>\n",
              "      <td>2546</td>\n",
              "      <td>100.0</td>\n",
              "      <td>360.0</td>\n",
              "      <td>NaN</td>\n",
              "      <td>Urban</td>\n",
              "    </tr>\n",
              "    <tr>\n",
              "      <th>4</th>\n",
              "      <td>LP001051</td>\n",
              "      <td>Male</td>\n",
              "      <td>No</td>\n",
              "      <td>0</td>\n",
              "      <td>Not Graduate</td>\n",
              "      <td>No</td>\n",
              "      <td>3276</td>\n",
              "      <td>0</td>\n",
              "      <td>78.0</td>\n",
              "      <td>360.0</td>\n",
              "      <td>1.0</td>\n",
              "      <td>Urban</td>\n",
              "    </tr>\n",
              "  </tbody>\n",
              "</table>\n",
              "</div>"
            ],
            "text/plain": [
              "    Loan_ID Gender Married Dependents     Education Self_Employed  \\\n",
              "0  LP001015   Male     Yes          0      Graduate            No   \n",
              "1  LP001022   Male     Yes          1      Graduate            No   \n",
              "2  LP001031   Male     Yes          2      Graduate            No   \n",
              "3  LP001035   Male     Yes          2      Graduate            No   \n",
              "4  LP001051   Male      No          0  Not Graduate            No   \n",
              "\n",
              "   ApplicantIncome  CoapplicantIncome  LoanAmount  Loan_Amount_Term  \\\n",
              "0             5720                  0       110.0             360.0   \n",
              "1             3076               1500       126.0             360.0   \n",
              "2             5000               1800       208.0             360.0   \n",
              "3             2340               2546       100.0             360.0   \n",
              "4             3276                  0        78.0             360.0   \n",
              "\n",
              "   Credit_History Property_Area  \n",
              "0             1.0         Urban  \n",
              "1             1.0         Urban  \n",
              "2             1.0         Urban  \n",
              "3             NaN         Urban  \n",
              "4             1.0         Urban  "
            ]
          },
          "execution_count": 42,
          "metadata": {},
          "output_type": "execute_result"
        }
      ],
      "source": [
        "test.head()"
      ]
    },
    {
      "cell_type": "code",
      "execution_count": null,
      "id": "cf0a8b39",
      "metadata": {
        "id": "cf0a8b39"
      },
      "outputs": [],
      "source": [
        "train_original=train.copy()#to copy the df\n",
        "test_original=test.copy()"
      ]
    },
    {
      "cell_type": "code",
      "execution_count": null,
      "id": "952dce4e",
      "metadata": {
        "id": "952dce4e",
        "outputId": "50bf2825-1547-43b1-ad29-46146fbad193"
      },
      "outputs": [
        {
          "data": {
            "text/plain": [
              "Index(['Loan_ID', 'Gender', 'Married', 'Dependents', 'Education',\n",
              "       'Self_Employed', 'ApplicantIncome', 'CoapplicantIncome', 'LoanAmount',\n",
              "       'Loan_Amount_Term', 'Credit_History', 'Property_Area', 'Loan_Status'],\n",
              "      dtype='object')"
            ]
          },
          "execution_count": 46,
          "metadata": {},
          "output_type": "execute_result"
        }
      ],
      "source": [
        "train.columns"
      ]
    },
    {
      "cell_type": "code",
      "execution_count": null,
      "id": "11012a88",
      "metadata": {
        "id": "11012a88",
        "outputId": "6fa9e430-d0be-49b2-815c-2a6c9e5b5a85"
      },
      "outputs": [
        {
          "data": {
            "text/plain": [
              "Index(['Loan_ID', 'Gender', 'Married', 'Dependents', 'Education',\n",
              "       'Self_Employed', 'ApplicantIncome', 'CoapplicantIncome', 'LoanAmount',\n",
              "       'Loan_Amount_Term', 'Credit_History', 'Property_Area'],\n",
              "      dtype='object')"
            ]
          },
          "execution_count": 47,
          "metadata": {},
          "output_type": "execute_result"
        }
      ],
      "source": [
        "test.columns"
      ]
    },
    {
      "cell_type": "code",
      "execution_count": null,
      "id": "0a2c558e",
      "metadata": {
        "id": "0a2c558e",
        "outputId": "a8149a0e-de0f-4fa1-86c0-4899c9c19886"
      },
      "outputs": [
        {
          "data": {
            "text/plain": [
              "Loan_ID               object\n",
              "Gender                object\n",
              "Married               object\n",
              "Dependents            object\n",
              "Education             object\n",
              "Self_Employed         object\n",
              "ApplicantIncome        int64\n",
              "CoapplicantIncome    float64\n",
              "LoanAmount           float64\n",
              "Loan_Amount_Term     float64\n",
              "Credit_History       float64\n",
              "Property_Area         object\n",
              "Loan_Status           object\n",
              "dtype: object"
            ]
          },
          "execution_count": 48,
          "metadata": {},
          "output_type": "execute_result"
        }
      ],
      "source": [
        "train.dtypes"
      ]
    },
    {
      "cell_type": "code",
      "execution_count": null,
      "id": "4a9bca14",
      "metadata": {
        "id": "4a9bca14",
        "outputId": "ac3580cd-580c-4b79-c32a-f65eeff8502e"
      },
      "outputs": [
        {
          "data": {
            "text/plain": [
              "(614, 13)"
            ]
          },
          "execution_count": 53,
          "metadata": {},
          "output_type": "execute_result"
        }
      ],
      "source": [
        "train.shape"
      ]
    },
    {
      "cell_type": "code",
      "execution_count": null,
      "id": "15e5b757",
      "metadata": {
        "id": "15e5b757",
        "outputId": "1fd30b06-e8de-42ee-bef3-2859f797c641"
      },
      "outputs": [
        {
          "data": {
            "text/plain": [
              "(367, 12)"
            ]
          },
          "execution_count": 54,
          "metadata": {},
          "output_type": "execute_result"
        }
      ],
      "source": [
        "test.shape"
      ]
    },
    {
      "cell_type": "code",
      "execution_count": null,
      "id": "21f2ad46",
      "metadata": {
        "id": "21f2ad46",
        "outputId": "c02f36e5-3c33-4999-99ff-fa2aaf1e1278"
      },
      "outputs": [
        {
          "data": {
            "text/plain": [
              "Y    422\n",
              "N    192\n",
              "Name: Loan_Status, dtype: int64"
            ]
          },
          "execution_count": 6,
          "metadata": {},
          "output_type": "execute_result"
        }
      ],
      "source": [
        "train.Loan_Status.value_counts()"
      ]
    },
    {
      "cell_type": "code",
      "execution_count": null,
      "id": "118dbea2",
      "metadata": {
        "id": "118dbea2",
        "outputId": "7588546b-5106-4d29-8d9b-828c5777d4c1"
      },
      "outputs": [
        {
          "data": {
            "text/plain": [
              "Y    68.729642\n",
              "N    31.270358\n",
              "Name: Loan_Status, dtype: float64"
            ]
          },
          "execution_count": 9,
          "metadata": {},
          "output_type": "execute_result"
        }
      ],
      "source": [
        "train.Loan_Status.value_counts(normalize=True)*100#percentage of approvals and disapprovals"
      ]
    },
    {
      "cell_type": "markdown",
      "id": "a7f8321e",
      "metadata": {
        "id": "a7f8321e"
      },
      "source": [
        "# Univariate Analysis"
      ]
    },
    {
      "cell_type": "code",
      "execution_count": null,
      "id": "02efcb50",
      "metadata": {
        "id": "02efcb50",
        "outputId": "088830e2-a901-45a3-e6f0-ebe899c8fe05"
      },
      "outputs": [
        {
          "data": {
            "text/plain": [
              "<Axes: >"
            ]
          },
          "execution_count": 10,
          "metadata": {},
          "output_type": "execute_result"
        },
        {
          "data": {
            "image/png": "[encoded data removed]",
            "text/plain": [
              "<Figure size 640x480 with 1 Axes>"
            ]
          },
          "metadata": {},
          "output_type": "display_data"
        }
      ],
      "source": [
        "train.Loan_Status.value_counts().plot.bar()"
      ]
    },
    {
      "cell_type": "code",
      "execution_count": null,
      "id": "a15d6b67",
      "metadata": {
        "id": "a15d6b67",
        "outputId": "5f8eb90c-9ad1-4b91-9108-6716a45281c3"
      },
      "outputs": [
        {
          "data": {
            "image/png": "[encoded data removed]",
            "text/plain": [
              "<Figure size 2000x1000 with 4 Axes>"
            ]
          },
          "metadata": {},
          "output_type": "display_data"
        }
      ],
      "source": [
        "plt.figure(1)\n",
        "plt.subplot(221)# here 2-nrows,2-n-columns,1-index of the subplot\n",
        "train.Gender.value_counts(normalize=True).plot.bar(figsize=(20,10),title='Gender')\n",
        "plt.subplot(222)\n",
        "train.Married.value_counts(normalize=True).plot.bar(figsize=(20,10),title='Married')\n",
        "plt.subplot(223)\n",
        "train.Self_Employed.value_counts(normalize=True).plot.bar(figsize=(20,10),title='Self Employed')\n",
        "plt.subplot(224)\n",
        "train.Credit_History.value_counts(normalize=True).plot.bar(figsize=(20,10),title='Credit History')\n",
        "plt.show()"
      ]
    },
    {
      "cell_type": "code",
      "execution_count": null,
      "id": "be148330",
      "metadata": {
        "id": "be148330",
        "outputId": "383ae9ab-6894-4401-f8b2-c744b663a274"
      },
      "outputs": [
        {
          "data": {
            "text/plain": [
              "<Axes: title={'center': 'Property Area'}>"
            ]
          },
          "execution_count": 135,
          "metadata": {},
          "output_type": "execute_result"
        },
        {
          "data": {
            "image/png": "[encoded data removed]",
            "text/plain": [
              "<Figure size 1500x500 with 3 Axes>"
            ]
          },
          "metadata": {},
          "output_type": "display_data"
        }
      ],
      "source": [
        "plt.figure(1)\n",
        "plt.subplot(131)\n",
        "train.Dependents.value_counts(normalize=True).plot.bar(figsize=(10,15),title='Dependents')\n",
        "plt.subplot(132)\n",
        "train.Education.value_counts(normalize=True).plot.bar(figsize=(10,15),title='Education')\n",
        "plt.subplot(133)\n",
        "train.Property_Area.value_counts(normalize=True).plot.bar(figsize=(15,5),title='Property Area')"
      ]
    },
    {
      "cell_type": "code",
      "execution_count": null,
      "id": "c9ee94ee",
      "metadata": {
        "id": "c9ee94ee",
        "outputId": "af654d34-292c-4c3c-b330-ec3f84663fdd"
      },
      "outputs": [
        {
          "data": {
            "text/plain": [
              "<Axes: >"
            ]
          },
          "execution_count": 29,
          "metadata": {},
          "output_type": "execute_result"
        },
        {
          "data": {
            "image/png": "[encoded data removed]",
            "text/plain": [
              "<Figure size 1500x500 with 2 Axes>"
            ]
          },
          "metadata": {},
          "output_type": "display_data"
        }
      ],
      "source": [
        "plt.figure(1)\n",
        "plt.subplot(121)\n",
        "sns.distplot(train.ApplicantIncome)\n",
        "plt.subplot(122)\n",
        "train.ApplicantIncome.plot.box(figsize=(15,5))"
      ]
    },
    {
      "cell_type": "code",
      "execution_count": null,
      "id": "74b37219",
      "metadata": {
        "id": "74b37219",
        "outputId": "71c7ce56-5932-438f-e5b5-42e80cb57fbc"
      },
      "outputs": [
        {
          "data": {
            "text/plain": [
              "<Axes: >"
            ]
          },
          "execution_count": 134,
          "metadata": {},
          "output_type": "execute_result"
        },
        {
          "data": {
            "image/png": "[encoded data removed]",
            "text/plain": [
              "<Figure size 1500x500 with 2 Axes>"
            ]
          },
          "metadata": {},
          "output_type": "display_data"
        }
      ],
      "source": [
        "plt.figure(1)\n",
        "plt.subplot(121)\n",
        "sns.distplot(train.LoanAmount)\n",
        "plt.subplot(122)\n",
        "train.LoanAmount.plot.box(figsize=(15,5))"
      ]
    },
    {
      "cell_type": "markdown",
      "id": "79268c10",
      "metadata": {
        "id": "79268c10"
      },
      "source": [
        "# Bivariate Analysis"
      ]
    },
    {
      "cell_type": "code",
      "execution_count": null,
      "id": "bad9083b",
      "metadata": {
        "id": "bad9083b",
        "outputId": "b87d90b2-4f45-419f-a2c7-edbb531db2d9"
      },
      "outputs": [
        {
          "data": {
            "text/plain": [
              "<Axes: xlabel='Gender'>"
            ]
          },
          "execution_count": 133,
          "metadata": {},
          "output_type": "execute_result"
        },
        {
          "data": {
            "image/png": "[encoded data removed]",
            "text/plain": [
              "<Figure size 400x400 with 1 Axes>"
            ]
          },
          "metadata": {},
          "output_type": "display_data"
        }
      ],
      "source": [
        "gender=pd.crosstab(train.Gender,train.Loan_Status)\n",
        "gender.div(gender.sum(1).astype(float),axis=0).plot(kind='bar',figsize=(4,4))"
      ]
    },
    {
      "cell_type": "code",
      "execution_count": null,
      "id": "c6988677",
      "metadata": {
        "id": "c6988677",
        "outputId": "9182df00-1613-4d03-eb7c-ae2a853974e8"
      },
      "outputs": [
        {
          "data": {
            "text/plain": [
              "<Axes: xlabel='Self_Employed'>"
            ]
          },
          "execution_count": 6,
          "metadata": {},
          "output_type": "execute_result"
        },
        {
          "data": {
            "image/png": "[encoded data removed]",
            "text/plain": [
              "<Figure size 400x400 with 1 Axes>"
            ]
          },
          "metadata": {},
          "output_type": "display_data"
        },
        {
          "data": {
            "image/png": "[encoded data removed]",
            "text/plain": [
              "<Figure size 400x400 with 1 Axes>"
            ]
          },
          "metadata": {},
          "output_type": "display_data"
        },
        {
          "data": {
            "image/png": "[encoded data removed]",
            "text/plain": [
              "<Figure size 640x480 with 1 Axes>"
            ]
          },
          "metadata": {},
          "output_type": "display_data"
        },
        {
          "data": {
            "image/png": "[encoded data removed]",
            "text/plain": [
              "<Figure size 400x400 with 1 Axes>"
            ]
          },
          "metadata": {},
          "output_type": "display_data"
        }
      ],
      "source": [
        "dependents=pd.crosstab(train.Dependents,train.Loan_Status)\n",
        "education=pd.crosstab(train.Education,train.Loan_Status)\n",
        "married=pd.crosstab(train.Married,train.Loan_Status)\n",
        "self_employed=pd.crosstab(train.Self_Employed,train.Loan_Status)\n",
        "married.div(married.sum(1).astype(float),axis=0).plot(kind='bar',figsize=(4,4))\n",
        "education.div(education.sum(1).astype(float),axis=0).plot(kind='bar',figsize=(4,4))\n",
        "dependents.div(dependents.sum(1).astype(float),axis=0).plot(kind='bar',stacked=True)\n",
        "self_employed.div(self_employed.sum(1).astype(float),axis=0).plot(kind='bar',figsize=(4,4))"
      ]
    },
    {
      "cell_type": "code",
      "execution_count": null,
      "id": "283657e5",
      "metadata": {
        "id": "283657e5",
        "outputId": "995a2b49-13d5-4f83-e69d-1a5d91c54730"
      },
      "outputs": [
        {
          "data": {
            "text/plain": [
              "<Axes: xlabel='Property_Area'>"
            ]
          },
          "execution_count": 7,
          "metadata": {},
          "output_type": "execute_result"
        },
        {
          "data": {
            "image/png": "[encoded data removed]",
            "text/plain": [
              "<Figure size 400x400 with 1 Axes>"
            ]
          },
          "metadata": {},
          "output_type": "display_data"
        },
        {
          "data": {
            "image/png": "[encoded data removed]",
            "text/plain": [
              "<Figure size 400x400 with 1 Axes>"
            ]
          },
          "metadata": {},
          "output_type": "display_data"
        }
      ],
      "source": [
        "credit_history=pd.crosstab(train.Credit_History,train.Loan_Status)\n",
        "credit_history.div(credit_history.sum(1).astype(float),axis=0).plot(kind='bar',figsize=(4,4),stacked=True)\n",
        "property_area=pd.crosstab(train.Property_Area,train.Loan_Status)\n",
        "property_area.div(property_area.sum(1).astype(float),axis=0).plot(kind='bar',figsize=(4,4),stacked=True)"
      ]
    },
    {
      "cell_type": "code",
      "execution_count": null,
      "id": "31c4b28f",
      "metadata": {
        "id": "31c4b28f",
        "outputId": "474f176c-67de-4695-8c43-6ecf3a75e3b3"
      },
      "outputs": [
        {
          "data": {
            "text/plain": [
              "<Axes: xlabel='Loan_Status'>"
            ]
          },
          "execution_count": 56,
          "metadata": {},
          "output_type": "execute_result"
        },
        {
          "data": {
            "image/png": "[encoded data removed]",
            "text/plain": [
              "<Figure size 640x480 with 1 Axes>"
            ]
          },
          "metadata": {},
          "output_type": "display_data"
        }
      ],
      "source": [
        "train.groupby('Loan_Status')['ApplicantIncome'].mean().plot.bar()"
      ]
    },
    {
      "cell_type": "code",
      "execution_count": null,
      "id": "7a7fa07c",
      "metadata": {
        "id": "7a7fa07c"
      },
      "outputs": [],
      "source": [
        "bins=[0,2500,4000,6000,81000]\n",
        "group=['Low','Average','High','Very High']\n",
        "train.Income_bin=pd.cut(train.ApplicantIncome,bins,labels=group)"
      ]
    },
    {
      "cell_type": "code",
      "execution_count": null,
      "id": "9d31b3e4",
      "metadata": {
        "id": "9d31b3e4",
        "outputId": "c0bbc7a2-162c-4366-cd56-f42d61618996"
      },
      "outputs": [
        {
          "data": {
            "text/plain": [
              "<Axes: xlabel='ApplicantIncome'>"
            ]
          },
          "execution_count": 9,
          "metadata": {},
          "output_type": "execute_result"
        },
        {
          "data": {
            "image/png": "[encoded data removed]",
            "text/plain": [
              "<Figure size 640x480 with 1 Axes>"
            ]
          },
          "metadata": {},
          "output_type": "display_data"
        }
      ],
      "source": [
        "bins=[0,2500,4000,6000,81000]\n",
        "group=['Low','Average','High','Very High']\n",
        "train.Income_bin=pd.cut(train.ApplicantIncome,bins,labels=group)\n",
        "income_bin=pd.crosstab(train.Income_bin,train.Loan_Status)\n",
        "income_bin.div(income_bin.sum(1).astype(float),axis=0).plot.bar(stacked=True)"
      ]
    },
    {
      "cell_type": "code",
      "execution_count": null,
      "id": "89018ed9",
      "metadata": {
        "id": "89018ed9",
        "outputId": "1cb2b5de-5537-44f0-a818-06ecd9472456"
      },
      "outputs": [
        {
          "data": {
            "text/plain": [
              "<Axes: xlabel='CoapplicantIncome'>"
            ]
          },
          "execution_count": 10,
          "metadata": {},
          "output_type": "execute_result"
        },
        {
          "data": {
            "image/png": "[encoded data removed]",
            "text/plain": [
              "<Figure size 640x480 with 1 Axes>"
            ]
          },
          "metadata": {},
          "output_type": "display_data"
        }
      ],
      "source": [
        "bins=[0,1000,3000,4200]\n",
        "group=['Low','Average','High']\n",
        "train.Coapplicant_Income_bin=pd.cut(train.CoapplicantIncome,bins,labels=group)\n",
        "coapplicant_income_bin=pd.crosstab(train.Coapplicant_Income_bin,train.Loan_Status)\n",
        "coapplicant_income_bin.div(coapplicant_income_bin.sum(1).astype(float),axis=0).plot.bar(stacked=True)"
      ]
    },
    {
      "cell_type": "code",
      "execution_count": null,
      "id": "ffba4cf2",
      "metadata": {
        "id": "ffba4cf2",
        "outputId": "a7b0b99f-8966-4a23-e8db-85acedb9afab"
      },
      "outputs": [
        {
          "data": {
            "text/plain": [
              "<Axes: xlabel='Total_Income_bin'>"
            ]
          },
          "execution_count": 11,
          "metadata": {},
          "output_type": "execute_result"
        },
        {
          "data": {
            "image/png": "[encoded data removed]",
            "text/plain": [
              "<Figure size 640x480 with 1 Axes>"
            ]
          },
          "metadata": {},
          "output_type": "display_data"
        }
      ],
      "source": [
        "train['Total_Income']=train['ApplicantIncome']+train['CoapplicantIncome']\n",
        "bins=[0,2500,4000,6000,81000]\n",
        "group=['Low','Average','High', 'Very high']\n",
        "train['Total_Income_bin']=pd.cut(train['Total_Income'],bins,labels=group)\n",
        "Total_Income_bin=pd.crosstab(train['Total_Income_bin'],train['Loan_Status'])\n",
        "Total_Income_bin.div(Total_Income_bin.sum(1).astype(float), axis=0).plot(kind=\"bar\", stacked=True)\n"
      ]
    },
    {
      "cell_type": "code",
      "execution_count": null,
      "id": "dc98ffd7",
      "metadata": {
        "id": "dc98ffd7",
        "outputId": "fe92781e-1f44-46e1-df77-13d7256f5bcd"
      },
      "outputs": [
        {
          "data": {
            "text/plain": [
              "<Axes: xlabel='LoanAmount'>"
            ]
          },
          "execution_count": 12,
          "metadata": {},
          "output_type": "execute_result"
        },
        {
          "data": {
            "image/png": "[encoded data removed]",
            "text/plain": [
              "<Figure size 640x480 with 1 Axes>"
            ]
          },
          "metadata": {},
          "output_type": "display_data"
        }
      ],
      "source": [
        "bins=[0,100,200,700]\n",
        "group=['Low','Average','High']\n",
        "train.LoanAmount_bin=pd.cut(train.LoanAmount,bins,labels=group)\n",
        "LoanAmount_bin=pd.crosstab(train.LoanAmount_bin,train.Loan_Status)\n",
        "LoanAmount_bin.div(LoanAmount_bin.sum(1).astype(float),axis=0).plot(kind='bar',stacked=True)\n",
        "\n"
      ]
    },
    {
      "cell_type": "code",
      "execution_count": null,
      "id": "04dbb02d",
      "metadata": {
        "id": "04dbb02d"
      },
      "outputs": [],
      "source": [
        "train.drop(['Total_Income','Total_Income_bin'],axis=1,inplace=True)"
      ]
    },
    {
      "cell_type": "code",
      "execution_count": null,
      "id": "0c3509a4",
      "metadata": {
        "id": "0c3509a4"
      },
      "outputs": [],
      "source": [
        "train.Dependents.replace('3+',3,inplace=True)\n",
        "test.Dependents.replace('3+',3,inplace=True)\n",
        "train.Loan_Status.replace('N',0,inplace=True)\n",
        "train.Loan_Status.replace('Y',1,inplace=True)"
      ]
    },
    {
      "cell_type": "code",
      "execution_count": null,
      "id": "983bba4a",
      "metadata": {
        "id": "983bba4a",
        "outputId": "70ffd867-ac57-4037-a427-1f655e978e8c"
      },
      "outputs": [
        {
          "data": {
            "text/plain": [
              "<Axes: >"
            ]
          },
          "execution_count": 98,
          "metadata": {},
          "output_type": "execute_result"
        },
        {
          "data": {
            "image/png": "[encoded data removed]",
            "text/plain": [
              "<Figure size 900x600 with 2 Axes>"
            ]
          },
          "metadata": {},
          "output_type": "display_data"
        }
      ],
      "source": [
        "matirx=train.corr()\n",
        "f,ax=plt.subplots(figsize=(9,6))\n",
        "sns.heatmap(matirx,vmax=.8,square=True,cmap='BuPu')"
      ]
    },
    {
      "cell_type": "code",
      "execution_count": null,
      "id": "3e6b8b3a",
      "metadata": {
        "id": "3e6b8b3a",
        "outputId": "f639f1e3-fc05-4bc7-db76-7c9d2b94fdd7"
      },
      "outputs": [
        {
          "data": {
            "text/plain": [
              "Loan_ID               0\n",
              "Gender               13\n",
              "Married               3\n",
              "Dependents           15\n",
              "Education             0\n",
              "Self_Employed        32\n",
              "ApplicantIncome       0\n",
              "CoapplicantIncome     0\n",
              "LoanAmount           22\n",
              "Loan_Amount_Term     14\n",
              "Credit_History       50\n",
              "Property_Area         0\n",
              "Loan_Status           0\n",
              "dtype: int64"
            ]
          },
          "execution_count": 18,
          "metadata": {},
          "output_type": "execute_result"
        }
      ],
      "source": [
        "train.isna().sum()"
      ]
    },
    {
      "cell_type": "code",
      "execution_count": null,
      "id": "22072319",
      "metadata": {
        "id": "22072319"
      },
      "outputs": [],
      "source": [
        "train.Gender.fillna(train.Gender.mode()[0],inplace=True)\n",
        "train.Married.fillna(train.Married.mode()[0],inplace=True)\n",
        "train.Dependents.fillna(train.Dependents.mode()[0],inplace=True)\n",
        "train.Self_Employed.fillna(train.Self_Employed.mode()[0],inplace=True)\n",
        "train.Credit_History.fillna(train.Credit_History.mode()[0],inplace=True)"
      ]
    },
    {
      "cell_type": "code",
      "execution_count": null,
      "id": "2f8f472f",
      "metadata": {
        "id": "2f8f472f",
        "outputId": "44405615-6f3d-482d-d38b-e49b1ee62514"
      },
      "outputs": [
        {
          "data": {
            "text/plain": [
              "Loan_ID               0\n",
              "Gender                0\n",
              "Married               0\n",
              "Dependents            0\n",
              "Education             0\n",
              "Self_Employed         0\n",
              "ApplicantIncome       0\n",
              "CoapplicantIncome     0\n",
              "LoanAmount           22\n",
              "Loan_Amount_Term     14\n",
              "Credit_History        0\n",
              "Property_Area         0\n",
              "Loan_Status           0\n",
              "dtype: int64"
            ]
          },
          "execution_count": 24,
          "metadata": {},
          "output_type": "execute_result"
        }
      ],
      "source": [
        "train.isna().sum()"
      ]
    },
    {
      "cell_type": "code",
      "execution_count": null,
      "id": "3c864c5a",
      "metadata": {
        "id": "3c864c5a",
        "outputId": "0c477eae-44d0-436e-ce94-1f0d340e2c7e"
      },
      "outputs": [
        {
          "data": {
            "text/plain": [
              "360.0    512\n",
              "180.0     44\n",
              "480.0     15\n",
              "300.0     13\n",
              "240.0      4\n",
              "84.0       4\n",
              "120.0      3\n",
              "60.0       2\n",
              "36.0       2\n",
              "12.0       1\n",
              "Name: Loan_Amount_Term, dtype: int64"
            ]
          },
          "execution_count": 10,
          "metadata": {},
          "output_type": "execute_result"
        }
      ],
      "source": [
        "train.Loan_Amount_Term.value_counts()"
      ]
    },
    {
      "cell_type": "code",
      "execution_count": null,
      "id": "7b5f327f",
      "metadata": {
        "id": "7b5f327f"
      },
      "outputs": [],
      "source": [
        "train.Loan_Amount_Term.fillna(train.Loan_Amount_Term.mode()[0],inplace=True)"
      ]
    },
    {
      "cell_type": "code",
      "execution_count": null,
      "id": "70eb9a61",
      "metadata": {
        "id": "70eb9a61"
      },
      "outputs": [],
      "source": [
        "train.LoanAmount.fillna(train.LoanAmount.median(),inplace=True)# as loanamount has lot of outliers we are using median instead of mean"
      ]
    },
    {
      "cell_type": "code",
      "execution_count": null,
      "id": "b6880ceb",
      "metadata": {
        "id": "b6880ceb",
        "outputId": "b2632e34-366a-4c09-c745-ac59612004b8"
      },
      "outputs": [
        {
          "data": {
            "text/plain": [
              "Loan_ID              0\n",
              "Gender               0\n",
              "Married              0\n",
              "Dependents           0\n",
              "Education            0\n",
              "Self_Employed        0\n",
              "ApplicantIncome      0\n",
              "CoapplicantIncome    0\n",
              "LoanAmount           0\n",
              "Loan_Amount_Term     0\n",
              "Credit_History       0\n",
              "Property_Area        0\n",
              "Loan_Status          0\n",
              "dtype: int64"
            ]
          },
          "execution_count": 104,
          "metadata": {},
          "output_type": "execute_result"
        }
      ],
      "source": [
        "train.isna().sum()"
      ]
    },
    {
      "cell_type": "code",
      "execution_count": null,
      "id": "23b8dbff",
      "metadata": {
        "id": "23b8dbff"
      },
      "outputs": [],
      "source": [
        "test['Gender'].fillna(train['Gender'].mode()[0], inplace=True)\n",
        "test['Dependents'].fillna(train['Dependents'].mode()[0], inplace=True)\n",
        "test['Self_Employed'].fillna(train['Self_Employed'].mode()[0], inplace=True)\n",
        "test['Credit_History'].fillna(train['Credit_History'].mode()[0], inplace=True)\n",
        "test['Loan_Amount_Term'].fillna(train['Loan_Amount_Term'].mode()[0], inplace=True)\n",
        "test['LoanAmount'].fillna(train['LoanAmount'].median(), inplace=True)"
      ]
    },
    {
      "cell_type": "code",
      "execution_count": null,
      "id": "6da349ca",
      "metadata": {
        "id": "6da349ca",
        "outputId": "e3e0a7e0-2db7-4d66-9216-e60087ee8d4e"
      },
      "outputs": [
        {
          "data": {
            "text/plain": [
              "Loan_ID              0\n",
              "Gender               0\n",
              "Married              0\n",
              "Dependents           0\n",
              "Education            0\n",
              "Self_Employed        0\n",
              "ApplicantIncome      0\n",
              "CoapplicantIncome    0\n",
              "LoanAmount           0\n",
              "Loan_Amount_Term     0\n",
              "Credit_History       0\n",
              "Property_Area        0\n",
              "dtype: int64"
            ]
          },
          "execution_count": 103,
          "metadata": {},
          "output_type": "execute_result"
        }
      ],
      "source": [
        "test.isna().sum()"
      ]
    },
    {
      "cell_type": "code",
      "execution_count": null,
      "id": "dfe3c995",
      "metadata": {
        "id": "dfe3c995",
        "outputId": "e43ac6c9-7684-48d3-c6fc-569062156a16"
      },
      "outputs": [
        {
          "data": {
            "image/png": "[encoded data removed]",
            "text/plain": [
              "<Figure size 640x480 with 1 Axes>"
            ]
          },
          "metadata": {},
          "output_type": "display_data"
        }
      ],
      "source": [
        "train['loanamount_log']=np.log(train.LoanAmount) # it creates new colum which contain log values of Loan Amount with outliers reduced\n",
        "train.loanamount_log.hist(bins=20)\n",
        "test['loanamount_log']=np.log(test.LoanAmount)"
      ]
    },
    {
      "cell_type": "code",
      "execution_count": null,
      "id": "b8dec465",
      "metadata": {
        "id": "b8dec465"
      },
      "outputs": [],
      "source": [
        "train=train.drop('Loan_ID',axis=1)# it does not have any effect on loan status hence dropped\n",
        "test=test.drop('Loan_ID',axis=1)"
      ]
    },
    {
      "cell_type": "code",
      "execution_count": null,
      "id": "8b46f9ab",
      "metadata": {
        "id": "8b46f9ab"
      },
      "outputs": [],
      "source": [
        "X=train.drop('Loan_Status',1)#sicketlearn requires target variable in separate database\n",
        "y=train.Loan_Status"
      ]
    },
    {
      "cell_type": "code",
      "execution_count": null,
      "id": "29690676",
      "metadata": {
        "id": "29690676"
      },
      "outputs": [],
      "source": [
        "from sklearn.preprocessing import LabelEncoder\n",
        "encoder=LabelEncoder()\n",
        "X['Gender']=encoder.fit_transform(X['Gender'])\n",
        "X['Married']=encoder.fit_transform(X['Married'])\n",
        "X['Education']=encoder.fit_transform(X['Education'])\n",
        "X['Self_Employed']=encoder.fit_transform(X['Self_Employed'])\n",
        "X['Property_Area']=encoder.fit_transform(X['Property_Area'])\n",
        "test['Gender']=encoder.fit_transform(test['Gender'])\n",
        "test['Married']=encoder.fit_transform(test['Married'])\n",
        "test['Education']=encoder.fit_transform(test['Education'])\n",
        "test['Self_Employed']=encoder.fit_transform(test['Self_Employed'])\n",
        "test['Property_Area']=encoder.fit_transform(test['Property_Area'])\n",
        "train['Gender']=encoder.fit_transform(train['Gender'])\n",
        "train['Married']=encoder.fit_transform(train['Married'])\n",
        "train['Education']=encoder.fit_transform(train['Education'])\n",
        "train['Self_Employed']=encoder.fit_transform(train['Self_Employed'])\n",
        "train['Property_Area']=encoder.fit_transform(train['Property_Area'])"
      ]
    },
    {
      "cell_type": "code",
      "execution_count": null,
      "id": "123bdc5f",
      "metadata": {
        "id": "123bdc5f"
      },
      "outputs": [],
      "source": [
        "from sklearn.model_selection import train_test_split# cv cross validation,x-indepndent variables,y-target variable\n",
        "x_train,x_cv,y_train,y_cv= train_test_split(X,y,test_size=0.3)#30% is for cv and 70% data used for training"
      ]
    },
    {
      "cell_type": "code",
      "execution_count": null,
      "id": "2cb46079",
      "metadata": {
        "id": "2cb46079",
        "outputId": "effbf9eb-1274-471b-f482-118afaf0d300"
      },
      "outputs": [
        {
          "data": {
            "text/html": [
              "<div>\n",
              "<style scoped>\n",
              "    .dataframe tbody tr th:only-of-type {\n",
              "        vertical-align: middle;\n",
              "    }\n",
              "\n",
              "    .dataframe tbody tr th {\n",
              "        vertical-align: top;\n",
              "    }\n",
              "\n",
              "    .dataframe thead th {\n",
              "        text-align: right;\n",
              "    }\n",
              "</style>\n",
              "<table border=\"1\" class=\"dataframe\">\n",
              "  <thead>\n",
              "    <tr style=\"text-align: right;\">\n",
              "      <th></th>\n",
              "      <th>Gender</th>\n",
              "      <th>Married</th>\n",
              "      <th>Dependents</th>\n",
              "      <th>Education</th>\n",
              "      <th>Self_Employed</th>\n",
              "      <th>ApplicantIncome</th>\n",
              "      <th>CoapplicantIncome</th>\n",
              "      <th>LoanAmount</th>\n",
              "      <th>Loan_Amount_Term</th>\n",
              "      <th>Credit_History</th>\n",
              "      <th>Property_Area</th>\n",
              "      <th>loanamount_log</th>\n",
              "    </tr>\n",
              "  </thead>\n",
              "  <tbody>\n",
              "    <tr>\n",
              "      <th>0</th>\n",
              "      <td>1</td>\n",
              "      <td>0</td>\n",
              "      <td>0</td>\n",
              "      <td>0</td>\n",
              "      <td>0</td>\n",
              "      <td>5849</td>\n",
              "      <td>0.0</td>\n",
              "      <td>128.0</td>\n",
              "      <td>360.0</td>\n",
              "      <td>1.0</td>\n",
              "      <td>2</td>\n",
              "      <td>4.852030</td>\n",
              "    </tr>\n",
              "    <tr>\n",
              "      <th>611</th>\n",
              "      <td>1</td>\n",
              "      <td>1</td>\n",
              "      <td>1</td>\n",
              "      <td>0</td>\n",
              "      <td>0</td>\n",
              "      <td>8072</td>\n",
              "      <td>240.0</td>\n",
              "      <td>253.0</td>\n",
              "      <td>360.0</td>\n",
              "      <td>1.0</td>\n",
              "      <td>2</td>\n",
              "      <td>5.533389</td>\n",
              "    </tr>\n",
              "    <tr>\n",
              "      <th>527</th>\n",
              "      <td>1</td>\n",
              "      <td>1</td>\n",
              "      <td>1</td>\n",
              "      <td>1</td>\n",
              "      <td>0</td>\n",
              "      <td>5285</td>\n",
              "      <td>1430.0</td>\n",
              "      <td>161.0</td>\n",
              "      <td>360.0</td>\n",
              "      <td>0.0</td>\n",
              "      <td>1</td>\n",
              "      <td>5.081404</td>\n",
              "    </tr>\n",
              "    <tr>\n",
              "      <th>412</th>\n",
              "      <td>1</td>\n",
              "      <td>1</td>\n",
              "      <td>0</td>\n",
              "      <td>1</td>\n",
              "      <td>0</td>\n",
              "      <td>6096</td>\n",
              "      <td>0.0</td>\n",
              "      <td>218.0</td>\n",
              "      <td>360.0</td>\n",
              "      <td>0.0</td>\n",
              "      <td>0</td>\n",
              "      <td>5.384495</td>\n",
              "    </tr>\n",
              "    <tr>\n",
              "      <th>444</th>\n",
              "      <td>1</td>\n",
              "      <td>1</td>\n",
              "      <td>0</td>\n",
              "      <td>0</td>\n",
              "      <td>0</td>\n",
              "      <td>7333</td>\n",
              "      <td>8333.0</td>\n",
              "      <td>175.0</td>\n",
              "      <td>300.0</td>\n",
              "      <td>1.0</td>\n",
              "      <td>0</td>\n",
              "      <td>5.164786</td>\n",
              "    </tr>\n",
              "    <tr>\n",
              "      <th>...</th>\n",
              "      <td>...</td>\n",
              "      <td>...</td>\n",
              "      <td>...</td>\n",
              "      <td>...</td>\n",
              "      <td>...</td>\n",
              "      <td>...</td>\n",
              "      <td>...</td>\n",
              "      <td>...</td>\n",
              "      <td>...</td>\n",
              "      <td>...</td>\n",
              "      <td>...</td>\n",
              "      <td>...</td>\n",
              "    </tr>\n",
              "    <tr>\n",
              "      <th>594</th>\n",
              "      <td>1</td>\n",
              "      <td>1</td>\n",
              "      <td>0</td>\n",
              "      <td>0</td>\n",
              "      <td>1</td>\n",
              "      <td>16120</td>\n",
              "      <td>0.0</td>\n",
              "      <td>260.0</td>\n",
              "      <td>360.0</td>\n",
              "      <td>1.0</td>\n",
              "      <td>2</td>\n",
              "      <td>5.560682</td>\n",
              "    </tr>\n",
              "    <tr>\n",
              "      <th>492</th>\n",
              "      <td>1</td>\n",
              "      <td>0</td>\n",
              "      <td>0</td>\n",
              "      <td>1</td>\n",
              "      <td>0</td>\n",
              "      <td>3691</td>\n",
              "      <td>0.0</td>\n",
              "      <td>110.0</td>\n",
              "      <td>360.0</td>\n",
              "      <td>1.0</td>\n",
              "      <td>0</td>\n",
              "      <td>4.700480</td>\n",
              "    </tr>\n",
              "    <tr>\n",
              "      <th>236</th>\n",
              "      <td>1</td>\n",
              "      <td>1</td>\n",
              "      <td>0</td>\n",
              "      <td>0</td>\n",
              "      <td>0</td>\n",
              "      <td>5746</td>\n",
              "      <td>0.0</td>\n",
              "      <td>255.0</td>\n",
              "      <td>360.0</td>\n",
              "      <td>1.0</td>\n",
              "      <td>2</td>\n",
              "      <td>5.541264</td>\n",
              "    </tr>\n",
              "    <tr>\n",
              "      <th>172</th>\n",
              "      <td>1</td>\n",
              "      <td>1</td>\n",
              "      <td>3</td>\n",
              "      <td>1</td>\n",
              "      <td>0</td>\n",
              "      <td>3522</td>\n",
              "      <td>0.0</td>\n",
              "      <td>81.0</td>\n",
              "      <td>180.0</td>\n",
              "      <td>1.0</td>\n",
              "      <td>0</td>\n",
              "      <td>4.394449</td>\n",
              "    </tr>\n",
              "    <tr>\n",
              "      <th>295</th>\n",
              "      <td>1</td>\n",
              "      <td>1</td>\n",
              "      <td>3</td>\n",
              "      <td>0</td>\n",
              "      <td>0</td>\n",
              "      <td>4416</td>\n",
              "      <td>1250.0</td>\n",
              "      <td>110.0</td>\n",
              "      <td>360.0</td>\n",
              "      <td>1.0</td>\n",
              "      <td>2</td>\n",
              "      <td>4.700480</td>\n",
              "    </tr>\n",
              "  </tbody>\n",
              "</table>\n",
              "<p>429 rows × 12 columns</p>\n",
              "</div>"
            ],
            "text/plain": [
              "     Gender  Married Dependents  Education  Self_Employed  ApplicantIncome  \\\n",
              "0         1        0          0          0              0             5849   \n",
              "611       1        1          1          0              0             8072   \n",
              "527       1        1          1          1              0             5285   \n",
              "412       1        1          0          1              0             6096   \n",
              "444       1        1          0          0              0             7333   \n",
              "..      ...      ...        ...        ...            ...              ...   \n",
              "594       1        1          0          0              1            16120   \n",
              "492       1        0          0          1              0             3691   \n",
              "236       1        1          0          0              0             5746   \n",
              "172       1        1          3          1              0             3522   \n",
              "295       1        1          3          0              0             4416   \n",
              "\n",
              "     CoapplicantIncome  LoanAmount  Loan_Amount_Term  Credit_History  \\\n",
              "0                  0.0       128.0             360.0             1.0   \n",
              "611              240.0       253.0             360.0             1.0   \n",
              "527             1430.0       161.0             360.0             0.0   \n",
              "412                0.0       218.0             360.0             0.0   \n",
              "444             8333.0       175.0             300.0             1.0   \n",
              "..                 ...         ...               ...             ...   \n",
              "594                0.0       260.0             360.0             1.0   \n",
              "492                0.0       110.0             360.0             1.0   \n",
              "236                0.0       255.0             360.0             1.0   \n",
              "172                0.0        81.0             180.0             1.0   \n",
              "295             1250.0       110.0             360.0             1.0   \n",
              "\n",
              "     Property_Area  loanamount_log  \n",
              "0                2        4.852030  \n",
              "611              2        5.533389  \n",
              "527              1        5.081404  \n",
              "412              0        5.384495  \n",
              "444              0        5.164786  \n",
              "..             ...             ...  \n",
              "594              2        5.560682  \n",
              "492              0        4.700480  \n",
              "236              2        5.541264  \n",
              "172              0        4.394449  \n",
              "295              2        4.700480  \n",
              "\n",
              "[429 rows x 12 columns]"
            ]
          },
          "execution_count": 36,
          "metadata": {},
          "output_type": "execute_result"
        }
      ],
      "source": [
        "x_train"
      ]
    },
    {
      "cell_type": "code",
      "execution_count": null,
      "id": "fc0789b8",
      "metadata": {
        "id": "fc0789b8",
        "outputId": "264a1eb6-9731-4be4-8ff0-97138f18f31d"
      },
      "outputs": [
        {
          "data": {
            "text/html": [
              "<div>\n",
              "<style scoped>\n",
              "    .dataframe tbody tr th:only-of-type {\n",
              "        vertical-align: middle;\n",
              "    }\n",
              "\n",
              "    .dataframe tbody tr th {\n",
              "        vertical-align: top;\n",
              "    }\n",
              "\n",
              "    .dataframe thead th {\n",
              "        text-align: right;\n",
              "    }\n",
              "</style>\n",
              "<table border=\"1\" class=\"dataframe\">\n",
              "  <thead>\n",
              "    <tr style=\"text-align: right;\">\n",
              "      <th></th>\n",
              "      <th>Gender</th>\n",
              "      <th>Married</th>\n",
              "      <th>Dependents</th>\n",
              "      <th>Education</th>\n",
              "      <th>Self_Employed</th>\n",
              "      <th>Credit_History</th>\n",
              "      <th>Property_Area</th>\n",
              "      <th>loanamount_log</th>\n",
              "      <th>Total_Income</th>\n",
              "      <th>logtotal_income</th>\n",
              "      <th>EMI</th>\n",
              "      <th>Balance_Income</th>\n",
              "    </tr>\n",
              "  </thead>\n",
              "  <tbody>\n",
              "    <tr>\n",
              "      <th>271</th>\n",
              "      <td>1</td>\n",
              "      <td>1</td>\n",
              "      <td>0</td>\n",
              "      <td>0</td>\n",
              "      <td>0</td>\n",
              "      <td>1.0</td>\n",
              "      <td>2</td>\n",
              "      <td>0.111795</td>\n",
              "      <td>0.638624</td>\n",
              "      <td>1.192350</td>\n",
              "      <td>-0.187793</td>\n",
              "      <td>0.641947</td>\n",
              "    </tr>\n",
              "    <tr>\n",
              "      <th>162</th>\n",
              "      <td>1</td>\n",
              "      <td>1</td>\n",
              "      <td>1</td>\n",
              "      <td>0</td>\n",
              "      <td>0</td>\n",
              "      <td>0.0</td>\n",
              "      <td>1</td>\n",
              "      <td>-0.124013</td>\n",
              "      <td>-0.411520</td>\n",
              "      <td>-0.527165</td>\n",
              "      <td>-0.269378</td>\n",
              "      <td>-0.410563</td>\n",
              "    </tr>\n",
              "    <tr>\n",
              "      <th>545</th>\n",
              "      <td>1</td>\n",
              "      <td>1</td>\n",
              "      <td>0</td>\n",
              "      <td>0</td>\n",
              "      <td>0</td>\n",
              "      <td>1.0</td>\n",
              "      <td>0</td>\n",
              "      <td>0.375662</td>\n",
              "      <td>-0.357440</td>\n",
              "      <td>-0.386065</td>\n",
              "      <td>-0.084453</td>\n",
              "      <td>-0.357796</td>\n",
              "    </tr>\n",
              "    <tr>\n",
              "      <th>44</th>\n",
              "      <td>1</td>\n",
              "      <td>1</td>\n",
              "      <td>0</td>\n",
              "      <td>1</td>\n",
              "      <td>1</td>\n",
              "      <td>1.0</td>\n",
              "      <td>2</td>\n",
              "      <td>-0.591015</td>\n",
              "      <td>-0.361004</td>\n",
              "      <td>-0.395038</td>\n",
              "      <td>-0.405352</td>\n",
              "      <td>-0.358823</td>\n",
              "    </tr>\n",
              "    <tr>\n",
              "      <th>306</th>\n",
              "      <td>0</td>\n",
              "      <td>0</td>\n",
              "      <td>0</td>\n",
              "      <td>0</td>\n",
              "      <td>0</td>\n",
              "      <td>1.0</td>\n",
              "      <td>0</td>\n",
              "      <td>0.096904</td>\n",
              "      <td>-0.247421</td>\n",
              "      <td>-0.128682</td>\n",
              "      <td>-0.193232</td>\n",
              "      <td>-0.246597</td>\n",
              "    </tr>\n",
              "    <tr>\n",
              "      <th>...</th>\n",
              "      <td>...</td>\n",
              "      <td>...</td>\n",
              "      <td>...</td>\n",
              "      <td>...</td>\n",
              "      <td>...</td>\n",
              "      <td>...</td>\n",
              "      <td>...</td>\n",
              "      <td>...</td>\n",
              "      <td>...</td>\n",
              "      <td>...</td>\n",
              "      <td>...</td>\n",
              "      <td>...</td>\n",
              "    </tr>\n",
              "    <tr>\n",
              "      <th>239</th>\n",
              "      <td>1</td>\n",
              "      <td>1</td>\n",
              "      <td>1</td>\n",
              "      <td>0</td>\n",
              "      <td>0</td>\n",
              "      <td>1.0</td>\n",
              "      <td>1</td>\n",
              "      <td>-0.591015</td>\n",
              "      <td>-0.574845</td>\n",
              "      <td>-1.034046</td>\n",
              "      <td>-0.405352</td>\n",
              "      <td>-0.573277</td>\n",
              "    </tr>\n",
              "    <tr>\n",
              "      <th>45</th>\n",
              "      <td>0</td>\n",
              "      <td>0</td>\n",
              "      <td>0</td>\n",
              "      <td>0</td>\n",
              "      <td>0</td>\n",
              "      <td>1.0</td>\n",
              "      <td>2</td>\n",
              "      <td>-0.766585</td>\n",
              "      <td>-0.560124</td>\n",
              "      <td>-0.982170</td>\n",
              "      <td>-0.448863</td>\n",
              "      <td>-0.558169</td>\n",
              "    </tr>\n",
              "    <tr>\n",
              "      <th>472</th>\n",
              "      <td>1</td>\n",
              "      <td>1</td>\n",
              "      <td>3</td>\n",
              "      <td>0</td>\n",
              "      <td>0</td>\n",
              "      <td>1.0</td>\n",
              "      <td>1</td>\n",
              "      <td>-0.508645</td>\n",
              "      <td>-0.361624</td>\n",
              "      <td>-0.396602</td>\n",
              "      <td>-0.383596</td>\n",
              "      <td>-0.359617</td>\n",
              "    </tr>\n",
              "    <tr>\n",
              "      <th>366</th>\n",
              "      <td>1</td>\n",
              "      <td>0</td>\n",
              "      <td>0</td>\n",
              "      <td>0</td>\n",
              "      <td>0</td>\n",
              "      <td>1.0</td>\n",
              "      <td>1</td>\n",
              "      <td>-0.591015</td>\n",
              "      <td>-0.701135</td>\n",
              "      <td>-1.552109</td>\n",
              "      <td>-0.535887</td>\n",
              "      <td>-0.698894</td>\n",
              "    </tr>\n",
              "    <tr>\n",
              "      <th>368</th>\n",
              "      <td>1</td>\n",
              "      <td>1</td>\n",
              "      <td>1</td>\n",
              "      <td>0</td>\n",
              "      <td>0</td>\n",
              "      <td>1.0</td>\n",
              "      <td>1</td>\n",
              "      <td>0.620543</td>\n",
              "      <td>-0.108424</td>\n",
              "      <td>0.152117</td>\n",
              "      <td>0.024327</td>\n",
              "      <td>-0.108928</td>\n",
              "    </tr>\n",
              "  </tbody>\n",
              "</table>\n",
              "<p>185 rows × 12 columns</p>\n",
              "</div>"
            ],
            "text/plain": [
              "     Gender  Married Dependents  Education  Self_Employed  Credit_History  \\\n",
              "271       1        1          0          0              0             1.0   \n",
              "162       1        1          1          0              0             0.0   \n",
              "545       1        1          0          0              0             1.0   \n",
              "44        1        1          0          1              1             1.0   \n",
              "306       0        0          0          0              0             1.0   \n",
              "..      ...      ...        ...        ...            ...             ...   \n",
              "239       1        1          1          0              0             1.0   \n",
              "45        0        0          0          0              0             1.0   \n",
              "472       1        1          3          0              0             1.0   \n",
              "366       1        0          0          0              0             1.0   \n",
              "368       1        1          1          0              0             1.0   \n",
              "\n",
              "     Property_Area  loanamount_log  Total_Income  logtotal_income       EMI  \\\n",
              "271              2        0.111795      0.638624         1.192350 -0.187793   \n",
              "162              1       -0.124013     -0.411520        -0.527165 -0.269378   \n",
              "545              0        0.375662     -0.357440        -0.386065 -0.084453   \n",
              "44               2       -0.591015     -0.361004        -0.395038 -0.405352   \n",
              "306              0        0.096904     -0.247421        -0.128682 -0.193232   \n",
              "..             ...             ...           ...              ...       ...   \n",
              "239              1       -0.591015     -0.574845        -1.034046 -0.405352   \n",
              "45               2       -0.766585     -0.560124        -0.982170 -0.448863   \n",
              "472              1       -0.508645     -0.361624        -0.396602 -0.383596   \n",
              "366              1       -0.591015     -0.701135        -1.552109 -0.535887   \n",
              "368              1        0.620543     -0.108424         0.152117  0.024327   \n",
              "\n",
              "     Balance_Income  \n",
              "271        0.641947  \n",
              "162       -0.410563  \n",
              "545       -0.357796  \n",
              "44        -0.358823  \n",
              "306       -0.246597  \n",
              "..              ...  \n",
              "239       -0.573277  \n",
              "45        -0.558169  \n",
              "472       -0.359617  \n",
              "366       -0.698894  \n",
              "368       -0.108928  \n",
              "\n",
              "[185 rows x 12 columns]"
            ]
          },
          "execution_count": 67,
          "metadata": {},
          "output_type": "execute_result"
        }
      ],
      "source": [
        "x_cv"
      ]
    },
    {
      "cell_type": "code",
      "execution_count": null,
      "id": "2852ebf5",
      "metadata": {
        "id": "2852ebf5",
        "outputId": "b0077001-611d-4f68-c32f-0cde43a77ee2"
      },
      "outputs": [
        {
          "data": {
            "text/plain": [
              "530    1\n",
              "352    1\n",
              "290    1\n",
              "143    1\n",
              "392    1\n",
              "      ..\n",
              "561    1\n",
              "299    0\n",
              "305    0\n",
              "118    0\n",
              "241    0\n",
              "Name: Loan_Status, Length: 429, dtype: int64"
            ]
          },
          "execution_count": 68,
          "metadata": {},
          "output_type": "execute_result"
        }
      ],
      "source": [
        "y_train"
      ]
    },
    {
      "cell_type": "code",
      "execution_count": null,
      "id": "e9a8ab2e",
      "metadata": {
        "id": "e9a8ab2e",
        "outputId": "eb49ae9c-c374-4b1c-b893-6cf2fafb723c"
      },
      "outputs": [
        {
          "data": {
            "text/plain": [
              "271    1\n",
              "162    0\n",
              "545    1\n",
              "44     1\n",
              "306    1\n",
              "      ..\n",
              "239    1\n",
              "45     1\n",
              "472    1\n",
              "366    0\n",
              "368    1\n",
              "Name: Loan_Status, Length: 185, dtype: int64"
            ]
          },
          "execution_count": 69,
          "metadata": {},
          "output_type": "execute_result"
        }
      ],
      "source": [
        "y_cv"
      ]
    },
    {
      "cell_type": "markdown",
      "id": "4fa6e472",
      "metadata": {
        "id": "4fa6e472"
      },
      "source": [
        "# Model Building"
      ]
    },
    {
      "cell_type": "code",
      "execution_count": null,
      "id": "e84ced41",
      "metadata": {
        "id": "e84ced41",
        "outputId": "f8561a42-c6f4-4309-9c1a-64757b856470"
      },
      "outputs": [
        {
          "data": {
            "text/html": [
              "<style>#sk-container-id-1 {color: black;background-color: white;}#sk-container-id-1 pre{padding: 0;}#sk-container-id-1 div.sk-toggleable {background-color: white;}#sk-container-id-1 label.sk-toggleable__label {cursor: pointer;display: block;width: 100%;margin-bottom: 0;padding: 0.3em;box-sizing: border-box;text-align: center;}#sk-container-id-1 label.sk-toggleable__label-arrow:before {content: \"▸\";float: left;margin-right: 0.25em;color: #696969;}#sk-container-id-1 label.sk-toggleable__label-arrow:hover:before {color: black;}#sk-container-id-1 div.sk-estimator:hover label.sk-toggleable__label-arrow:before {color: black;}#sk-container-id-1 div.sk-toggleable__content {max-height: 0;max-width: 0;overflow: hidden;text-align: left;background-color: #f0f8ff;}#sk-container-id-1 div.sk-toggleable__content pre {margin: 0.2em;color: black;border-radius: 0.25em;background-color: #f0f8ff;}#sk-container-id-1 input.sk-toggleable__control:checked~div.sk-toggleable__content {max-height: 200px;max-width: 100%;overflow: auto;}#sk-container-id-1 input.sk-toggleable__control:checked~label.sk-toggleable__label-arrow:before {content: \"▾\";}#sk-container-id-1 div.sk-estimator input.sk-toggleable__control:checked~label.sk-toggleable__label {background-color: #d4ebff;}#sk-container-id-1 div.sk-label input.sk-toggleable__control:checked~label.sk-toggleable__label {background-color: #d4ebff;}#sk-container-id-1 input.sk-hidden--visually {border: 0;clip: rect(1px 1px 1px 1px);clip: rect(1px, 1px, 1px, 1px);height: 1px;margin: -1px;overflow: hidden;padding: 0;position: absolute;width: 1px;}#sk-container-id-1 div.sk-estimator {font-family: monospace;background-color: #f0f8ff;border: 1px dotted black;border-radius: 0.25em;box-sizing: border-box;margin-bottom: 0.5em;}#sk-container-id-1 div.sk-estimator:hover {background-color: #d4ebff;}#sk-container-id-1 div.sk-parallel-item::after {content: \"\";width: 100%;border-bottom: 1px solid gray;flex-grow: 1;}#sk-container-id-1 div.sk-label:hover label.sk-toggleable__label {background-color: #d4ebff;}#sk-container-id-1 div.sk-serial::before {content: \"\";position: absolute;border-left: 1px solid gray;box-sizing: border-box;top: 0;bottom: 0;left: 50%;z-index: 0;}#sk-container-id-1 div.sk-serial {display: flex;flex-direction: column;align-items: center;background-color: white;padding-right: 0.2em;padding-left: 0.2em;position: relative;}#sk-container-id-1 div.sk-item {position: relative;z-index: 1;}#sk-container-id-1 div.sk-parallel {display: flex;align-items: stretch;justify-content: center;background-color: white;position: relative;}#sk-container-id-1 div.sk-item::before, #sk-container-id-1 div.sk-parallel-item::before {content: \"\";position: absolute;border-left: 1px solid gray;box-sizing: border-box;top: 0;bottom: 0;left: 50%;z-index: -1;}#sk-container-id-1 div.sk-parallel-item {display: flex;flex-direction: column;z-index: 1;position: relative;background-color: white;}#sk-container-id-1 div.sk-parallel-item:first-child::after {align-self: flex-end;width: 50%;}#sk-container-id-1 div.sk-parallel-item:last-child::after {align-self: flex-start;width: 50%;}#sk-container-id-1 div.sk-parallel-item:only-child::after {width: 0;}#sk-container-id-1 div.sk-dashed-wrapped {border: 1px dashed gray;margin: 0 0.4em 0.5em 0.4em;box-sizing: border-box;padding-bottom: 0.4em;background-color: white;}#sk-container-id-1 div.sk-label label {font-family: monospace;font-weight: bold;display: inline-block;line-height: 1.2em;}#sk-container-id-1 div.sk-label-container {text-align: center;}#sk-container-id-1 div.sk-container {/* jupyter's `normalize.less` sets `[hidden] { display: none; }` but bootstrap.min.css set `[hidden] { display: none !important; }` so we also need the `!important` here to be able to override the default hidden behavior on the sphinx rendered scikit-learn.org. See: https://github.com/scikit-learn/scikit-learn/issues/21755 */display: inline-block !important;position: relative;}#sk-container-id-1 div.sk-text-repr-fallback {display: none;}</style><div id=\"sk-container-id-1\" class=\"sk-top-container\"><div class=\"sk-text-repr-fallback\"><pre>LogisticRegression()</pre><b>In a Jupyter environment, please rerun this cell to show the HTML representation or trust the notebook. <br />On GitHub, the HTML representation is unable to render, please try loading this page with nbviewer.org.</b></div><div class=\"sk-container\" hidden><div class=\"sk-item\"><div class=\"sk-estimator sk-toggleable\"><input class=\"sk-toggleable__control sk-hidden--visually\" id=\"sk-estimator-id-1\" type=\"checkbox\" checked><label for=\"sk-estimator-id-1\" class=\"sk-toggleable__label sk-toggleable__label-arrow\">LogisticRegression</label><div class=\"sk-toggleable__content\"><pre>LogisticRegression()</pre></div></div></div></div></div>"
            ],
            "text/plain": [
              "LogisticRegression()"
            ]
          },
          "execution_count": 37,
          "metadata": {},
          "output_type": "execute_result"
        }
      ],
      "source": [
        "from sklearn.linear_model import LogisticRegression\n",
        "from sklearn.metrics import accuracy_score\n",
        "model = LogisticRegression()\n",
        "model.fit(x_train, y_train)"
      ]
    },
    {
      "cell_type": "code",
      "execution_count": null,
      "id": "fbfcf57c",
      "metadata": {
        "id": "fbfcf57c",
        "outputId": "32d8d896-59d9-4307-95ab-8a1f5918a4ff"
      },
      "outputs": [
        {
          "data": {
            "text/plain": [
              "array([1, 1, 1, 1, 1, 1, 1, 1, 1, 1, 1, 1, 1, 0, 1, 1, 1, 1, 1, 1, 0, 1,\n",
              "       1, 0, 0, 0, 1, 1, 1, 1, 1, 1, 1, 1, 0, 1, 1, 1, 1, 1, 1, 1, 1, 1,\n",
              "       1, 1, 1, 1, 1, 1, 0, 1, 1, 1, 1, 1, 1, 1, 1, 1, 1, 1, 1, 1, 1, 1,\n",
              "       0, 1, 1, 1, 1, 1, 1, 1, 1, 1, 1, 0, 0, 1, 1, 1, 1, 1, 1, 0, 0, 1,\n",
              "       1, 1, 1, 1, 1, 1, 1, 1, 0, 1, 0, 1, 1, 1, 1, 1, 1, 1, 1, 1, 1, 1,\n",
              "       1, 1, 1, 1, 1, 1, 1, 1, 1, 1, 1, 1, 1, 0, 1, 1, 1, 1, 1, 1, 0, 1,\n",
              "       1, 1, 0, 1, 1, 1, 1, 1, 0, 1, 1, 1, 1, 1, 1, 1, 1, 1, 1, 1, 1, 1,\n",
              "       1, 1, 1, 1, 1, 1, 1, 1, 0, 1, 1, 1, 1, 1, 1, 1, 1, 1, 1, 1, 1, 1,\n",
              "       1, 0, 1, 0, 0, 1, 0, 1, 1], dtype=int64)"
            ]
          },
          "execution_count": 38,
          "metadata": {},
          "output_type": "execute_result"
        }
      ],
      "source": [
        "pred_cv=model.predict(x_cv)\n",
        "pred_cv"
      ]
    },
    {
      "cell_type": "code",
      "execution_count": null,
      "id": "84f2dc16",
      "metadata": {
        "id": "84f2dc16",
        "outputId": "140cd9db-0956-4356-8ec5-b95fb0c705ba"
      },
      "outputs": [
        {
          "data": {
            "text/plain": [
              "0.8162162162162162"
            ]
          },
          "execution_count": 39,
          "metadata": {},
          "output_type": "execute_result"
        }
      ],
      "source": [
        "accuracy_score(y_cv,pred_cv)#checking accuracy of the model"
      ]
    },
    {
      "cell_type": "code",
      "execution_count": null,
      "id": "2acaa6c0",
      "metadata": {
        "id": "2acaa6c0"
      },
      "outputs": [],
      "source": [
        "pred_testdata=model.predict(test)"
      ]
    },
    {
      "cell_type": "code",
      "execution_count": null,
      "id": "f2943f01",
      "metadata": {
        "id": "f2943f01"
      },
      "outputs": [],
      "source": [
        "submission=pd.read_csv(\"Downloads/sample_submission_49d68Cx.csv\")"
      ]
    },
    {
      "cell_type": "code",
      "execution_count": null,
      "id": "a711eb4f",
      "metadata": {
        "id": "a711eb4f"
      },
      "outputs": [],
      "source": [
        "submission.Loan_Status=pred_testdata\n",
        "submission.Loan_ID=test_original.Loan_ID"
      ]
    },
    {
      "cell_type": "code",
      "execution_count": null,
      "id": "ba28f5a8",
      "metadata": {
        "id": "ba28f5a8"
      },
      "outputs": [],
      "source": [
        "pd.DataFrame(submission, columns=['Loan_ID','Loan_Status']).to_csv('logisticRG.csv')"
      ]
    },
    {
      "cell_type": "markdown",
      "id": "75c41393",
      "metadata": {
        "id": "75c41393"
      },
      "source": [
        "# predicting using stratified K-Fold"
      ]
    },
    {
      "cell_type": "code",
      "execution_count": null,
      "id": "cd4c994b",
      "metadata": {
        "id": "cd4c994b",
        "outputId": "11f6d748-99d5-48e7-9783-b2eb05462b83"
      },
      "outputs": [
        {
          "name": "stdout",
          "output_type": "stream",
          "text": [
            "n-1 of kfold 5\n",
            "accuracy_score 0.8048780487804879\n",
            "n-2 of kfold 5\n",
            "accuracy_score 0.7479674796747967\n",
            "n-3 of kfold 5\n",
            "accuracy_score 0.8373983739837398\n",
            "n-4 of kfold 5\n",
            "accuracy_score 0.8130081300813008\n",
            "n-5 of kfold 5\n",
            "accuracy_score 0.8524590163934426\n"
          ]
        }
      ],
      "source": [
        "from sklearn.model_selection import StratifiedKFold\n",
        "i=1\n",
        "kf = StratifiedKFold(n_splits=5,random_state=5,shuffle=True) # splitting the ds into 5 folds\n",
        "for train_index,test_index in kf.split(X,y):#kf.split generates indices for different folds and stored in train_index and test_index\n",
        "     print('n-{} of kfold {}'.format(i,kf.n_splits))\n",
        "     xtr,xvl = X.iloc[train_index],X.iloc[test_index]#splitting data into train and validation sets\n",
        "     ytr,yvl = y.iloc[train_index],y.iloc[test_index]\n",
        "     model = LogisticRegression(random_state=5)\n",
        "     model.fit(xtr, ytr)\n",
        "     pred_test = model.predict(xvl)\n",
        "     score = accuracy_score(yvl,pred_test)\n",
        "     print('accuracy_score',score)\n",
        "     i+=1\n",
        "\n",
        "pred_test = model.predict(test)\n",
        "pred=model.predict_proba(xvl)[:,1]"
      ]
    },
    {
      "cell_type": "code",
      "execution_count": null,
      "id": "5ad1370f",
      "metadata": {
        "id": "5ad1370f",
        "outputId": "5bc4fcb0-465b-4065-9ca4-c1b4ac8033bd"
      },
      "outputs": [
        {
          "data": {
            "image/png": "[encoded data removed]",
            "text/plain": [
              "<Figure size 1000x500 with 1 Axes>"
            ]
          },
          "metadata": {},
          "output_type": "display_data"
        }
      ],
      "source": [
        "from sklearn import metrics\n",
        "fpr,tpr,_=metrics.roc_curve(yvl,pred)#_ is threshold\n",
        "auc=metrics.roc_auc_score(yvl,pred)\n",
        "plt.figure(figsize=(10,5))\n",
        "plt.plot(fpr,tpr,label=\"validation,auc=\"+str(auc))\n",
        "plt.xlabel('False Positive Rate')\n",
        "plt.ylabel('True Positive Rate')\n",
        "plt.legend(loc=4)\n",
        "plt.show()"
      ]
    },
    {
      "cell_type": "code",
      "execution_count": null,
      "id": "7407c585",
      "metadata": {
        "id": "7407c585"
      },
      "outputs": [],
      "source": [
        "submission['Loan_Status']=pred_test\n",
        "submission['Loan_ID']=test_original['Loan_ID']"
      ]
    },
    {
      "cell_type": "code",
      "execution_count": null,
      "id": "b4f0a4ba",
      "metadata": {
        "id": "b4f0a4ba"
      },
      "outputs": [],
      "source": [
        "pd.DataFrame(submission,columns=['Loan_ID','Loan_Status']).to_csv('Stratified.csv')"
      ]
    },
    {
      "cell_type": "markdown",
      "id": "552c83b2",
      "metadata": {
        "id": "552c83b2"
      },
      "source": [
        "# Feature Engineering"
      ]
    },
    {
      "cell_type": "code",
      "execution_count": null,
      "id": "c2657fed",
      "metadata": {
        "id": "c2657fed"
      },
      "outputs": [],
      "source": [
        "train['Total_Income']=train['ApplicantIncome']+train['CoapplicantIncome']\n",
        "test['Total_Income']=test['ApplicantIncome']+test['CoapplicantIncome']"
      ]
    },
    {
      "cell_type": "code",
      "execution_count": null,
      "id": "13b247e3",
      "metadata": {
        "id": "13b247e3",
        "outputId": "3a7468e7-9f8d-41bb-c5af-ab6c7e2a963d"
      },
      "outputs": [
        {
          "data": {
            "text/plain": [
              "<Axes: xlabel='Total_Income', ylabel='Density'>"
            ]
          },
          "execution_count": 43,
          "metadata": {},
          "output_type": "execute_result"
        },
        {
          "data": {
            "image/png": "[encoded data removed]",
            "text/plain": [
              "<Figure size 640x480 with 1 Axes>"
            ]
          },
          "metadata": {},
          "output_type": "display_data"
        }
      ],
      "source": [
        "sns.distplot(train.Total_Income)# not normal dist and right skewed"
      ]
    },
    {
      "cell_type": "code",
      "execution_count": null,
      "id": "1b91c8b9",
      "metadata": {
        "id": "1b91c8b9"
      },
      "outputs": [],
      "source": [
        "train['logtotal_income']=np.log(train.Total_Income)# to convert the curve into nds\n",
        "test['logtotal_income']=np.log(test.Total_Income)"
      ]
    },
    {
      "cell_type": "code",
      "execution_count": null,
      "id": "64eb735f",
      "metadata": {
        "id": "64eb735f",
        "outputId": "50de3df1-290d-4e4f-9788-1067c2ce4c32"
      },
      "outputs": [
        {
          "data": {
            "text/plain": [
              "<Axes: xlabel='logtotal_income', ylabel='Density'>"
            ]
          },
          "execution_count": 45,
          "metadata": {},
          "output_type": "execute_result"
        },
        {
          "data": {
            "image/png": "[encoded data removed]",
            "text/plain": [
              "<Figure size 640x480 with 1 Axes>"
            ]
          },
          "metadata": {},
          "output_type": "display_data"
        }
      ],
      "source": [
        "sns.distplot(train.logtotal_income)"
      ]
    },
    {
      "cell_type": "code",
      "execution_count": null,
      "id": "10b0b433",
      "metadata": {
        "id": "10b0b433"
      },
      "outputs": [],
      "source": [
        "train['EMI']=train['LoanAmount']/train['Loan_Amount_Term']\n",
        "test['EMI']=train['LoanAmount']/test['Loan_Amount_Term']"
      ]
    },
    {
      "cell_type": "code",
      "execution_count": null,
      "id": "4d96213b",
      "metadata": {
        "id": "4d96213b",
        "outputId": "460da9b4-97ec-4290-9386-3aa06434217b"
      },
      "outputs": [
        {
          "data": {
            "text/plain": [
              "<Axes: xlabel='EMI', ylabel='Density'>"
            ]
          },
          "execution_count": 73,
          "metadata": {},
          "output_type": "execute_result"
        },
        {
          "data": {
            "image/png": "[encoded data removed]",
            "text/plain": [
              "<Figure size 640x480 with 1 Axes>"
            ]
          },
          "metadata": {},
          "output_type": "display_data"
        }
      ],
      "source": [
        "sns.distplot(train.EMI)"
      ]
    },
    {
      "cell_type": "code",
      "execution_count": null,
      "id": "5e874ded",
      "metadata": {
        "id": "5e874ded"
      },
      "outputs": [],
      "source": [
        "train['Balance_Income']=train.Total_Income-(train.EMI*100)\n",
        "test['Balance_Income']=test.Total_Income-(test.EMI*100)"
      ]
    },
    {
      "cell_type": "code",
      "execution_count": null,
      "id": "60c2d878",
      "metadata": {
        "id": "60c2d878",
        "outputId": "4273b174-f3e7-43fb-fbaf-124eb46ce248"
      },
      "outputs": [
        {
          "data": {
            "text/plain": [
              "<Axes: xlabel='Balance_Income', ylabel='Density'>"
            ]
          },
          "execution_count": 234,
          "metadata": {},
          "output_type": "execute_result"
        },
        {
          "data": {
            "image/png": "[encoded data removed]",
            "text/plain": [
              "<Figure size 640x480 with 1 Axes>"
            ]
          },
          "metadata": {},
          "output_type": "display_data"
        }
      ],
      "source": [
        "sns.distplot(train.Balance_Income)"
      ]
    },
    {
      "cell_type": "code",
      "execution_count": null,
      "id": "3e3f7e93",
      "metadata": {
        "id": "3e3f7e93"
      },
      "outputs": [],
      "source": [
        "train.drop(['ApplicantIncome','CoapplicantIncome','LoanAmount','Loan_Amount_Term'],axis=1)# because the newly created features and hese will have high correlation which confuses the model\n",
        "test.drop(['ApplicantIncome','CoapplicantIncome','LoanAmount','Loan_Amount_Term'],axis=1,inplace=True)"
      ]
    },
    {
      "cell_type": "code",
      "execution_count": null,
      "id": "d598b995",
      "metadata": {
        "id": "d598b995"
      },
      "outputs": [],
      "source": [
        "X['Total_Income']=train['Total_Income']\n",
        "X['logtotal_income']=train['logtotal_income']\n",
        "X['EMI']=train['EMI']\n",
        "X['Balance_Income']=train['Balance_Income']"
      ]
    },
    {
      "cell_type": "code",
      "execution_count": null,
      "id": "570f45c1",
      "metadata": {
        "id": "570f45c1",
        "outputId": "3a1e4a3f-ab7e-4f19-979e-b6e6e8490b70"
      },
      "outputs": [
        {
          "data": {
            "text/html": [
              "<div>\n",
              "<style scoped>\n",
              "    .dataframe tbody tr th:only-of-type {\n",
              "        vertical-align: middle;\n",
              "    }\n",
              "\n",
              "    .dataframe tbody tr th {\n",
              "        vertical-align: top;\n",
              "    }\n",
              "\n",
              "    .dataframe thead th {\n",
              "        text-align: right;\n",
              "    }\n",
              "</style>\n",
              "<table border=\"1\" class=\"dataframe\">\n",
              "  <thead>\n",
              "    <tr style=\"text-align: right;\">\n",
              "      <th></th>\n",
              "      <th>Gender</th>\n",
              "      <th>Married</th>\n",
              "      <th>Dependents</th>\n",
              "      <th>Education</th>\n",
              "      <th>Self_Employed</th>\n",
              "      <th>ApplicantIncome</th>\n",
              "      <th>CoapplicantIncome</th>\n",
              "      <th>LoanAmount</th>\n",
              "      <th>Loan_Amount_Term</th>\n",
              "      <th>Credit_History</th>\n",
              "      <th>Property_Area</th>\n",
              "      <th>loanamount_log</th>\n",
              "      <th>Total_Income</th>\n",
              "      <th>logtotal_income</th>\n",
              "      <th>EMI</th>\n",
              "      <th>Balance_Income</th>\n",
              "    </tr>\n",
              "  </thead>\n",
              "  <tbody>\n",
              "    <tr>\n",
              "      <th>0</th>\n",
              "      <td>1</td>\n",
              "      <td>0</td>\n",
              "      <td>0</td>\n",
              "      <td>0</td>\n",
              "      <td>0</td>\n",
              "      <td>5849</td>\n",
              "      <td>0.0</td>\n",
              "      <td>128.0</td>\n",
              "      <td>360.0</td>\n",
              "      <td>1.0</td>\n",
              "      <td>2</td>\n",
              "      <td>4.852030</td>\n",
              "      <td>5849.0</td>\n",
              "      <td>8.674026</td>\n",
              "      <td>0.355556</td>\n",
              "      <td>5813.444444</td>\n",
              "    </tr>\n",
              "    <tr>\n",
              "      <th>1</th>\n",
              "      <td>1</td>\n",
              "      <td>1</td>\n",
              "      <td>1</td>\n",
              "      <td>0</td>\n",
              "      <td>0</td>\n",
              "      <td>4583</td>\n",
              "      <td>1508.0</td>\n",
              "      <td>128.0</td>\n",
              "      <td>360.0</td>\n",
              "      <td>1.0</td>\n",
              "      <td>0</td>\n",
              "      <td>4.852030</td>\n",
              "      <td>6091.0</td>\n",
              "      <td>8.714568</td>\n",
              "      <td>0.355556</td>\n",
              "      <td>6055.444444</td>\n",
              "    </tr>\n",
              "    <tr>\n",
              "      <th>2</th>\n",
              "      <td>1</td>\n",
              "      <td>1</td>\n",
              "      <td>0</td>\n",
              "      <td>0</td>\n",
              "      <td>1</td>\n",
              "      <td>3000</td>\n",
              "      <td>0.0</td>\n",
              "      <td>66.0</td>\n",
              "      <td>360.0</td>\n",
              "      <td>1.0</td>\n",
              "      <td>2</td>\n",
              "      <td>4.189655</td>\n",
              "      <td>3000.0</td>\n",
              "      <td>8.006368</td>\n",
              "      <td>0.183333</td>\n",
              "      <td>2981.666667</td>\n",
              "    </tr>\n",
              "    <tr>\n",
              "      <th>3</th>\n",
              "      <td>1</td>\n",
              "      <td>1</td>\n",
              "      <td>0</td>\n",
              "      <td>1</td>\n",
              "      <td>0</td>\n",
              "      <td>2583</td>\n",
              "      <td>2358.0</td>\n",
              "      <td>120.0</td>\n",
              "      <td>360.0</td>\n",
              "      <td>1.0</td>\n",
              "      <td>2</td>\n",
              "      <td>4.787492</td>\n",
              "      <td>4941.0</td>\n",
              "      <td>8.505323</td>\n",
              "      <td>0.333333</td>\n",
              "      <td>4907.666667</td>\n",
              "    </tr>\n",
              "    <tr>\n",
              "      <th>4</th>\n",
              "      <td>1</td>\n",
              "      <td>0</td>\n",
              "      <td>0</td>\n",
              "      <td>0</td>\n",
              "      <td>0</td>\n",
              "      <td>6000</td>\n",
              "      <td>0.0</td>\n",
              "      <td>141.0</td>\n",
              "      <td>360.0</td>\n",
              "      <td>1.0</td>\n",
              "      <td>2</td>\n",
              "      <td>4.948760</td>\n",
              "      <td>6000.0</td>\n",
              "      <td>8.699515</td>\n",
              "      <td>0.391667</td>\n",
              "      <td>5960.833333</td>\n",
              "    </tr>\n",
              "    <tr>\n",
              "      <th>...</th>\n",
              "      <td>...</td>\n",
              "      <td>...</td>\n",
              "      <td>...</td>\n",
              "      <td>...</td>\n",
              "      <td>...</td>\n",
              "      <td>...</td>\n",
              "      <td>...</td>\n",
              "      <td>...</td>\n",
              "      <td>...</td>\n",
              "      <td>...</td>\n",
              "      <td>...</td>\n",
              "      <td>...</td>\n",
              "      <td>...</td>\n",
              "      <td>...</td>\n",
              "      <td>...</td>\n",
              "      <td>...</td>\n",
              "    </tr>\n",
              "    <tr>\n",
              "      <th>609</th>\n",
              "      <td>0</td>\n",
              "      <td>0</td>\n",
              "      <td>0</td>\n",
              "      <td>0</td>\n",
              "      <td>0</td>\n",
              "      <td>2900</td>\n",
              "      <td>0.0</td>\n",
              "      <td>71.0</td>\n",
              "      <td>360.0</td>\n",
              "      <td>1.0</td>\n",
              "      <td>0</td>\n",
              "      <td>4.262680</td>\n",
              "      <td>2900.0</td>\n",
              "      <td>7.972466</td>\n",
              "      <td>0.197222</td>\n",
              "      <td>2880.277778</td>\n",
              "    </tr>\n",
              "    <tr>\n",
              "      <th>610</th>\n",
              "      <td>1</td>\n",
              "      <td>1</td>\n",
              "      <td>3</td>\n",
              "      <td>0</td>\n",
              "      <td>0</td>\n",
              "      <td>4106</td>\n",
              "      <td>0.0</td>\n",
              "      <td>40.0</td>\n",
              "      <td>180.0</td>\n",
              "      <td>1.0</td>\n",
              "      <td>0</td>\n",
              "      <td>3.688879</td>\n",
              "      <td>4106.0</td>\n",
              "      <td>8.320205</td>\n",
              "      <td>0.222222</td>\n",
              "      <td>4083.777778</td>\n",
              "    </tr>\n",
              "    <tr>\n",
              "      <th>611</th>\n",
              "      <td>1</td>\n",
              "      <td>1</td>\n",
              "      <td>1</td>\n",
              "      <td>0</td>\n",
              "      <td>0</td>\n",
              "      <td>8072</td>\n",
              "      <td>240.0</td>\n",
              "      <td>253.0</td>\n",
              "      <td>360.0</td>\n",
              "      <td>1.0</td>\n",
              "      <td>2</td>\n",
              "      <td>5.533389</td>\n",
              "      <td>8312.0</td>\n",
              "      <td>9.025456</td>\n",
              "      <td>0.702778</td>\n",
              "      <td>8241.722222</td>\n",
              "    </tr>\n",
              "    <tr>\n",
              "      <th>612</th>\n",
              "      <td>1</td>\n",
              "      <td>1</td>\n",
              "      <td>2</td>\n",
              "      <td>0</td>\n",
              "      <td>0</td>\n",
              "      <td>7583</td>\n",
              "      <td>0.0</td>\n",
              "      <td>187.0</td>\n",
              "      <td>360.0</td>\n",
              "      <td>1.0</td>\n",
              "      <td>2</td>\n",
              "      <td>5.231109</td>\n",
              "      <td>7583.0</td>\n",
              "      <td>8.933664</td>\n",
              "      <td>0.519444</td>\n",
              "      <td>7531.055556</td>\n",
              "    </tr>\n",
              "    <tr>\n",
              "      <th>613</th>\n",
              "      <td>0</td>\n",
              "      <td>0</td>\n",
              "      <td>0</td>\n",
              "      <td>0</td>\n",
              "      <td>1</td>\n",
              "      <td>4583</td>\n",
              "      <td>0.0</td>\n",
              "      <td>133.0</td>\n",
              "      <td>360.0</td>\n",
              "      <td>0.0</td>\n",
              "      <td>1</td>\n",
              "      <td>4.890349</td>\n",
              "      <td>4583.0</td>\n",
              "      <td>8.430109</td>\n",
              "      <td>0.369444</td>\n",
              "      <td>4546.055556</td>\n",
              "    </tr>\n",
              "  </tbody>\n",
              "</table>\n",
              "<p>614 rows × 16 columns</p>\n",
              "</div>"
            ],
            "text/plain": [
              "     Gender  Married Dependents  Education  Self_Employed  ApplicantIncome  \\\n",
              "0         1        0          0          0              0             5849   \n",
              "1         1        1          1          0              0             4583   \n",
              "2         1        1          0          0              1             3000   \n",
              "3         1        1          0          1              0             2583   \n",
              "4         1        0          0          0              0             6000   \n",
              "..      ...      ...        ...        ...            ...              ...   \n",
              "609       0        0          0          0              0             2900   \n",
              "610       1        1          3          0              0             4106   \n",
              "611       1        1          1          0              0             8072   \n",
              "612       1        1          2          0              0             7583   \n",
              "613       0        0          0          0              1             4583   \n",
              "\n",
              "     CoapplicantIncome  LoanAmount  Loan_Amount_Term  Credit_History  \\\n",
              "0                  0.0       128.0             360.0             1.0   \n",
              "1               1508.0       128.0             360.0             1.0   \n",
              "2                  0.0        66.0             360.0             1.0   \n",
              "3               2358.0       120.0             360.0             1.0   \n",
              "4                  0.0       141.0             360.0             1.0   \n",
              "..                 ...         ...               ...             ...   \n",
              "609                0.0        71.0             360.0             1.0   \n",
              "610                0.0        40.0             180.0             1.0   \n",
              "611              240.0       253.0             360.0             1.0   \n",
              "612                0.0       187.0             360.0             1.0   \n",
              "613                0.0       133.0             360.0             0.0   \n",
              "\n",
              "     Property_Area  loanamount_log  Total_Income  logtotal_income       EMI  \\\n",
              "0                2        4.852030        5849.0         8.674026  0.355556   \n",
              "1                0        4.852030        6091.0         8.714568  0.355556   \n",
              "2                2        4.189655        3000.0         8.006368  0.183333   \n",
              "3                2        4.787492        4941.0         8.505323  0.333333   \n",
              "4                2        4.948760        6000.0         8.699515  0.391667   \n",
              "..             ...             ...           ...              ...       ...   \n",
              "609              0        4.262680        2900.0         7.972466  0.197222   \n",
              "610              0        3.688879        4106.0         8.320205  0.222222   \n",
              "611              2        5.533389        8312.0         9.025456  0.702778   \n",
              "612              2        5.231109        7583.0         8.933664  0.519444   \n",
              "613              1        4.890349        4583.0         8.430109  0.369444   \n",
              "\n",
              "     Balance_Income  \n",
              "0       5813.444444  \n",
              "1       6055.444444  \n",
              "2       2981.666667  \n",
              "3       4907.666667  \n",
              "4       5960.833333  \n",
              "..              ...  \n",
              "609     2880.277778  \n",
              "610     4083.777778  \n",
              "611     8241.722222  \n",
              "612     7531.055556  \n",
              "613     4546.055556  \n",
              "\n",
              "[614 rows x 16 columns]"
            ]
          },
          "execution_count": 50,
          "metadata": {},
          "output_type": "execute_result"
        }
      ],
      "source": [
        "X"
      ]
    },
    {
      "cell_type": "code",
      "execution_count": null,
      "id": "2556a470",
      "metadata": {
        "id": "2556a470"
      },
      "outputs": [],
      "source": [
        "X.drop(['ApplicantIncome','CoapplicantIncome','LoanAmount','Loan_Amount_Term'],axis=1,inplace=True)# because the newly created features and hese will have high correlation which confuses the model"
      ]
    },
    {
      "cell_type": "code",
      "execution_count": null,
      "id": "cc24cd8a",
      "metadata": {
        "id": "cc24cd8a",
        "outputId": "004827d0-2309-47dc-f54d-241460f5a4b4"
      },
      "outputs": [
        {
          "data": {
            "text/plain": [
              "Index(['ApplicantIncome', 'CoapplicantIncome', 'LoanAmount',\n",
              "       'Loan_Amount_Term', 'Credit_History', 'Loan_Status', 'Total_Income',\n",
              "       'loanamount_log', 'Gender_Female', 'Gender_Male', 'Married_No',\n",
              "       'Married_Yes', 'Dependents_3', 'Dependents_0', 'Dependents_1',\n",
              "       'Dependents_2', 'Education_Graduate', 'Education_Not Graduate',\n",
              "       'Self_Employed_No', 'Self_Employed_Yes', 'Property_Area_Rural',\n",
              "       'Property_Area_Semiurban', 'Property_Area_Urban',\n",
              "       'Total_Income_bin_Low', 'Total_Income_bin_Average',\n",
              "       'Total_Income_bin_High', 'Total_Income_bin_Very high',\n",
              "       'logtotal_income', 'EMI', 'Balance_Income'],\n",
              "      dtype='object')"
            ]
          },
          "execution_count": 79,
          "metadata": {},
          "output_type": "execute_result"
        }
      ],
      "source": [
        "train.columns"
      ]
    },
    {
      "cell_type": "code",
      "execution_count": null,
      "id": "f5a3bd8d",
      "metadata": {
        "id": "f5a3bd8d",
        "outputId": "2c60e081-08b7-48f4-9912-d821d4996a49"
      },
      "outputs": [
        {
          "data": {
            "text/plain": [
              "array([[ 22,  33],\n",
              "       [  1, 129]], dtype=int64)"
            ]
          },
          "execution_count": 52,
          "metadata": {},
          "output_type": "execute_result"
        }
      ],
      "source": [
        "from sklearn.metrics import confusion_matrix\n",
        "cm=confusion_matrix(y_cv,pred_cv)\n",
        "cm"
      ]
    },
    {
      "cell_type": "code",
      "execution_count": null,
      "id": "705f8004",
      "metadata": {
        "id": "705f8004",
        "outputId": "0c0c6af0-6787-4bf3-cc81-4c905494382a"
      },
      "outputs": [
        {
          "name": "stdout",
          "output_type": "stream",
          "text": [
            "              precision    recall  f1-score   support\n",
            "\n",
            "           0       0.96      0.40      0.56        55\n",
            "           1       0.80      0.99      0.88       130\n",
            "\n",
            "    accuracy                           0.82       185\n",
            "   macro avg       0.88      0.70      0.72       185\n",
            "weighted avg       0.84      0.82      0.79       185\n",
            "\n"
          ]
        }
      ],
      "source": [
        "from sklearn.metrics import classification_report\n",
        "class_report = classification_report(y_cv, pred_cv)\n",
        "print(class_report)"
      ]
    },
    {
      "cell_type": "markdown",
      "id": "2cad6390",
      "metadata": {
        "id": "2cad6390"
      },
      "source": [
        "# Decision Tree Classification"
      ]
    },
    {
      "cell_type": "code",
      "execution_count": null,
      "id": "624305d7",
      "metadata": {
        "id": "624305d7",
        "outputId": "0ee308b8-91bc-4a99-c054-9c48d998b271"
      },
      "outputs": [
        {
          "name": "stdout",
          "output_type": "stream",
          "text": [
            "1 of kfold5\n",
            "accuracy_score 0.7723577235772358\n",
            "2 of kfold5\n",
            "accuracy_score 0.6422764227642277\n",
            "3 of kfold5\n",
            "accuracy_score 0.7886178861788617\n",
            "4 of kfold5\n",
            "accuracy_score 0.7479674796747967\n",
            "5 of kfold5\n",
            "accuracy_score 0.7950819672131147\n"
          ]
        }
      ],
      "source": [
        "from sklearn import tree# using decision tree model\n",
        "i=1\n",
        "kf=StratifiedKFold(n_splits=5,random_state=5,shuffle=True)\n",
        "for train_index,test_index in kf.split(X,y):\n",
        "    print(\"{} of kfold{}\".format(i,kf.n_splits))\n",
        "    train_x,val_x=X.loc[train_index],X.loc[test_index]\n",
        "    train_y,val_y=y.loc[train_index],y.loc[test_index]\n",
        "    model=tree.DecisionTreeClassifier(random_state=1)\n",
        "    model.fit(train_x,train_y)\n",
        "    pred_test=model.predict(val_x)\n",
        "    score=accuracy_score(val_y,pred_test)\n",
        "    print('accuracy_score',score)\n",
        "    i+=1\n",
        "pred_test=model.predict(test)"
      ]
    },
    {
      "cell_type": "code",
      "execution_count": null,
      "id": "e36a4ac3",
      "metadata": {
        "id": "e36a4ac3"
      },
      "outputs": [],
      "source": [
        "submission['Loan_Status']=pred_test\n",
        "submission['Loan_ID']=test_original['Loan_ID']"
      ]
    },
    {
      "cell_type": "code",
      "execution_count": null,
      "id": "e3873356",
      "metadata": {
        "id": "e3873356"
      },
      "outputs": [],
      "source": [
        "submission['Loan_Status'].replace(0, 'N',inplace=True)\n",
        "submission['Loan_Status'].replace(1, 'Y',inplace=True)"
      ]
    },
    {
      "cell_type": "code",
      "execution_count": null,
      "id": "a3a27743",
      "metadata": {
        "id": "a3a27743"
      },
      "outputs": [],
      "source": [
        "pd.DataFrame(submission, columns=['Loan_ID','Loan_Status']).to_csv('Decision Tree.csv')"
      ]
    },
    {
      "cell_type": "code",
      "execution_count": null,
      "id": "924a1678",
      "metadata": {
        "id": "924a1678",
        "outputId": "a0b1a55b-107d-48aa-abed-e7fc492df50e"
      },
      "outputs": [
        {
          "data": {
            "text/html": [
              "<style>#sk-container-id-2 {color: black;background-color: white;}#sk-container-id-2 pre{padding: 0;}#sk-container-id-2 div.sk-toggleable {background-color: white;}#sk-container-id-2 label.sk-toggleable__label {cursor: pointer;display: block;width: 100%;margin-bottom: 0;padding: 0.3em;box-sizing: border-box;text-align: center;}#sk-container-id-2 label.sk-toggleable__label-arrow:before {content: \"▸\";float: left;margin-right: 0.25em;color: #696969;}#sk-container-id-2 label.sk-toggleable__label-arrow:hover:before {color: black;}#sk-container-id-2 div.sk-estimator:hover label.sk-toggleable__label-arrow:before {color: black;}#sk-container-id-2 div.sk-toggleable__content {max-height: 0;max-width: 0;overflow: hidden;text-align: left;background-color: #f0f8ff;}#sk-container-id-2 div.sk-toggleable__content pre {margin: 0.2em;color: black;border-radius: 0.25em;background-color: #f0f8ff;}#sk-container-id-2 input.sk-toggleable__control:checked~div.sk-toggleable__content {max-height: 200px;max-width: 100%;overflow: auto;}#sk-container-id-2 input.sk-toggleable__control:checked~label.sk-toggleable__label-arrow:before {content: \"▾\";}#sk-container-id-2 div.sk-estimator input.sk-toggleable__control:checked~label.sk-toggleable__label {background-color: #d4ebff;}#sk-container-id-2 div.sk-label input.sk-toggleable__control:checked~label.sk-toggleable__label {background-color: #d4ebff;}#sk-container-id-2 input.sk-hidden--visually {border: 0;clip: rect(1px 1px 1px 1px);clip: rect(1px, 1px, 1px, 1px);height: 1px;margin: -1px;overflow: hidden;padding: 0;position: absolute;width: 1px;}#sk-container-id-2 div.sk-estimator {font-family: monospace;background-color: #f0f8ff;border: 1px dotted black;border-radius: 0.25em;box-sizing: border-box;margin-bottom: 0.5em;}#sk-container-id-2 div.sk-estimator:hover {background-color: #d4ebff;}#sk-container-id-2 div.sk-parallel-item::after {content: \"\";width: 100%;border-bottom: 1px solid gray;flex-grow: 1;}#sk-container-id-2 div.sk-label:hover label.sk-toggleable__label {background-color: #d4ebff;}#sk-container-id-2 div.sk-serial::before {content: \"\";position: absolute;border-left: 1px solid gray;box-sizing: border-box;top: 0;bottom: 0;left: 50%;z-index: 0;}#sk-container-id-2 div.sk-serial {display: flex;flex-direction: column;align-items: center;background-color: white;padding-right: 0.2em;padding-left: 0.2em;position: relative;}#sk-container-id-2 div.sk-item {position: relative;z-index: 1;}#sk-container-id-2 div.sk-parallel {display: flex;align-items: stretch;justify-content: center;background-color: white;position: relative;}#sk-container-id-2 div.sk-item::before, #sk-container-id-2 div.sk-parallel-item::before {content: \"\";position: absolute;border-left: 1px solid gray;box-sizing: border-box;top: 0;bottom: 0;left: 50%;z-index: -1;}#sk-container-id-2 div.sk-parallel-item {display: flex;flex-direction: column;z-index: 1;position: relative;background-color: white;}#sk-container-id-2 div.sk-parallel-item:first-child::after {align-self: flex-end;width: 50%;}#sk-container-id-2 div.sk-parallel-item:last-child::after {align-self: flex-start;width: 50%;}#sk-container-id-2 div.sk-parallel-item:only-child::after {width: 0;}#sk-container-id-2 div.sk-dashed-wrapped {border: 1px dashed gray;margin: 0 0.4em 0.5em 0.4em;box-sizing: border-box;padding-bottom: 0.4em;background-color: white;}#sk-container-id-2 div.sk-label label {font-family: monospace;font-weight: bold;display: inline-block;line-height: 1.2em;}#sk-container-id-2 div.sk-label-container {text-align: center;}#sk-container-id-2 div.sk-container {/* jupyter's `normalize.less` sets `[hidden] { display: none; }` but bootstrap.min.css set `[hidden] { display: none !important; }` so we also need the `!important` here to be able to override the default hidden behavior on the sphinx rendered scikit-learn.org. See: https://github.com/scikit-learn/scikit-learn/issues/21755 */display: inline-block !important;position: relative;}#sk-container-id-2 div.sk-text-repr-fallback {display: none;}</style><div id=\"sk-container-id-2\" class=\"sk-top-container\"><div class=\"sk-text-repr-fallback\"><pre>DecisionTreeClassifier()</pre><b>In a Jupyter environment, please rerun this cell to show the HTML representation or trust the notebook. <br />On GitHub, the HTML representation is unable to render, please try loading this page with nbviewer.org.</b></div><div class=\"sk-container\" hidden><div class=\"sk-item\"><div class=\"sk-estimator sk-toggleable\"><input class=\"sk-toggleable__control sk-hidden--visually\" id=\"sk-estimator-id-2\" type=\"checkbox\" checked><label for=\"sk-estimator-id-2\" class=\"sk-toggleable__label sk-toggleable__label-arrow\">DecisionTreeClassifier</label><div class=\"sk-toggleable__content\"><pre>DecisionTreeClassifier()</pre></div></div></div></div></div>"
            ],
            "text/plain": [
              "DecisionTreeClassifier()"
            ]
          },
          "execution_count": 55,
          "metadata": {},
          "output_type": "execute_result"
        }
      ],
      "source": [
        "from sklearn.tree import DecisionTreeClassifier# my own implementation\n",
        "model=DecisionTreeClassifier()\n",
        "model.fit(train_x,train_y)"
      ]
    },
    {
      "cell_type": "code",
      "execution_count": null,
      "id": "c88fe46b",
      "metadata": {
        "id": "c88fe46b",
        "outputId": "f269cff5-3a2b-437f-eab5-dc58ad293969"
      },
      "outputs": [
        {
          "data": {
            "text/plain": [
              "18"
            ]
          },
          "execution_count": 56,
          "metadata": {},
          "output_type": "execute_result"
        }
      ],
      "source": [
        "model.get_depth()"
      ]
    },
    {
      "cell_type": "code",
      "execution_count": null,
      "id": "ba40f3a1",
      "metadata": {
        "id": "ba40f3a1",
        "outputId": "1b401da5-850f-4639-f64b-4bbbb0d60531"
      },
      "outputs": [
        {
          "data": {
            "text/plain": [
              "0.7950819672131147"
            ]
          },
          "execution_count": 57,
          "metadata": {},
          "output_type": "execute_result"
        }
      ],
      "source": [
        "pred_train=model.predict(val_x)\n",
        "accuracy=accuracy_score(val_y,pred_train)\n",
        "accuracy"
      ]
    },
    {
      "cell_type": "code",
      "execution_count": null,
      "id": "3b555700",
      "metadata": {
        "id": "3b555700",
        "outputId": "cde37556-77ce-47b9-d410-97ececbd72ce"
      },
      "outputs": [
        {
          "name": "stdout",
          "output_type": "stream",
          "text": [
            "              precision    recall  f1-score   support\n",
            "\n",
            "           0       0.66      0.71      0.68        38\n",
            "           1       0.86      0.83      0.85        84\n",
            "\n",
            "    accuracy                           0.80       122\n",
            "   macro avg       0.76      0.77      0.77       122\n",
            "weighted avg       0.80      0.80      0.80       122\n",
            "\n"
          ]
        }
      ],
      "source": [
        "print(classification_report(val_y,pred_train))"
      ]
    },
    {
      "cell_type": "markdown",
      "id": "9295f40d",
      "metadata": {
        "id": "9295f40d"
      },
      "source": [
        "# Random Forest Classification"
      ]
    },
    {
      "cell_type": "code",
      "execution_count": null,
      "id": "57e2c08b",
      "metadata": {
        "id": "57e2c08b",
        "outputId": "de43de45-5748-4906-e44c-3d24956c28ba"
      },
      "outputs": [
        {
          "name": "stdout",
          "output_type": "stream",
          "text": [
            "1 of kfold5\n",
            "accuracy_score 0.8048780487804879\n",
            "2 of kfold5\n",
            "accuracy_score 0.7398373983739838\n",
            "3 of kfold5\n",
            "accuracy_score 0.8292682926829268\n",
            "4 of kfold5\n",
            "accuracy_score 0.7723577235772358\n",
            "5 of kfold5\n",
            "accuracy_score 0.860655737704918\n"
          ]
        }
      ],
      "source": [
        "from sklearn.ensemble import RandomForestClassifier\n",
        "i=1\n",
        "sc=[]\n",
        "kf=StratifiedKFold(n_splits=5,random_state=5,shuffle=True)\n",
        "for train_index,test_index in kf.split(X,y):\n",
        "    print('{} of kfold{}'.format(i,kf.n_splits))\n",
        "    train_x,val_x=X.iloc[train_index],X.iloc[test_index]\n",
        "    train_y,val_y=y.loc[train_index],y.loc[test_index]\n",
        "    model=RandomForestClassifier(random_state=5,max_depth=10)\n",
        "    model.fit(train_x,train_y)\n",
        "    pred_test=model.predict(val_x)\n",
        "    score=accuracy_score(val_y,pred_test)\n",
        "    print('accuracy_score',score)\n",
        "    sc.append(score)\n",
        "    i+=1\n",
        "pred_test=model.predict(test)"
      ]
    },
    {
      "cell_type": "code",
      "execution_count": null,
      "id": "8b8e8dab",
      "metadata": {
        "id": "8b8e8dab",
        "outputId": "3abe3766-3695-4c2c-e0b6-08a52bd73b87"
      },
      "outputs": [
        {
          "data": {
            "text/plain": [
              "100"
            ]
          },
          "execution_count": 60,
          "metadata": {},
          "output_type": "execute_result"
        }
      ],
      "source": [
        "model.n_estimators # no.of trees used"
      ]
    },
    {
      "cell_type": "code",
      "execution_count": null,
      "id": "df3c654b",
      "metadata": {
        "id": "df3c654b",
        "outputId": "6cdd022e-13b5-4deb-d3b2-0f3c21bb5554"
      },
      "outputs": [
        {
          "name": "stdout",
          "output_type": "stream",
          "text": [
            "mean: 0.8013994402239104\n"
          ]
        }
      ],
      "source": [
        "print('mean:',sum(sc)/len(sc))"
      ]
    },
    {
      "cell_type": "code",
      "execution_count": null,
      "id": "8c8d5e14",
      "metadata": {
        "id": "8c8d5e14",
        "outputId": "287a0395-7cf1-4ae0-839f-0fdde87b392f"
      },
      "outputs": [
        {
          "data": {
            "text/html": [
              "<style>#sk-container-id-7 {color: black;background-color: white;}#sk-container-id-7 pre{padding: 0;}#sk-container-id-7 div.sk-toggleable {background-color: white;}#sk-container-id-7 label.sk-toggleable__label {cursor: pointer;display: block;width: 100%;margin-bottom: 0;padding: 0.3em;box-sizing: border-box;text-align: center;}#sk-container-id-7 label.sk-toggleable__label-arrow:before {content: \"▸\";float: left;margin-right: 0.25em;color: #696969;}#sk-container-id-7 label.sk-toggleable__label-arrow:hover:before {color: black;}#sk-container-id-7 div.sk-estimator:hover label.sk-toggleable__label-arrow:before {color: black;}#sk-container-id-7 div.sk-toggleable__content {max-height: 0;max-width: 0;overflow: hidden;text-align: left;background-color: #f0f8ff;}#sk-container-id-7 div.sk-toggleable__content pre {margin: 0.2em;color: black;border-radius: 0.25em;background-color: #f0f8ff;}#sk-container-id-7 input.sk-toggleable__control:checked~div.sk-toggleable__content {max-height: 200px;max-width: 100%;overflow: auto;}#sk-container-id-7 input.sk-toggleable__control:checked~label.sk-toggleable__label-arrow:before {content: \"▾\";}#sk-container-id-7 div.sk-estimator input.sk-toggleable__control:checked~label.sk-toggleable__label {background-color: #d4ebff;}#sk-container-id-7 div.sk-label input.sk-toggleable__control:checked~label.sk-toggleable__label {background-color: #d4ebff;}#sk-container-id-7 input.sk-hidden--visually {border: 0;clip: rect(1px 1px 1px 1px);clip: rect(1px, 1px, 1px, 1px);height: 1px;margin: -1px;overflow: hidden;padding: 0;position: absolute;width: 1px;}#sk-container-id-7 div.sk-estimator {font-family: monospace;background-color: #f0f8ff;border: 1px dotted black;border-radius: 0.25em;box-sizing: border-box;margin-bottom: 0.5em;}#sk-container-id-7 div.sk-estimator:hover {background-color: #d4ebff;}#sk-container-id-7 div.sk-parallel-item::after {content: \"\";width: 100%;border-bottom: 1px solid gray;flex-grow: 1;}#sk-container-id-7 div.sk-label:hover label.sk-toggleable__label {background-color: #d4ebff;}#sk-container-id-7 div.sk-serial::before {content: \"\";position: absolute;border-left: 1px solid gray;box-sizing: border-box;top: 0;bottom: 0;left: 50%;z-index: 0;}#sk-container-id-7 div.sk-serial {display: flex;flex-direction: column;align-items: center;background-color: white;padding-right: 0.2em;padding-left: 0.2em;position: relative;}#sk-container-id-7 div.sk-item {position: relative;z-index: 1;}#sk-container-id-7 div.sk-parallel {display: flex;align-items: stretch;justify-content: center;background-color: white;position: relative;}#sk-container-id-7 div.sk-item::before, #sk-container-id-7 div.sk-parallel-item::before {content: \"\";position: absolute;border-left: 1px solid gray;box-sizing: border-box;top: 0;bottom: 0;left: 50%;z-index: -1;}#sk-container-id-7 div.sk-parallel-item {display: flex;flex-direction: column;z-index: 1;position: relative;background-color: white;}#sk-container-id-7 div.sk-parallel-item:first-child::after {align-self: flex-end;width: 50%;}#sk-container-id-7 div.sk-parallel-item:last-child::after {align-self: flex-start;width: 50%;}#sk-container-id-7 div.sk-parallel-item:only-child::after {width: 0;}#sk-container-id-7 div.sk-dashed-wrapped {border: 1px dashed gray;margin: 0 0.4em 0.5em 0.4em;box-sizing: border-box;padding-bottom: 0.4em;background-color: white;}#sk-container-id-7 div.sk-label label {font-family: monospace;font-weight: bold;display: inline-block;line-height: 1.2em;}#sk-container-id-7 div.sk-label-container {text-align: center;}#sk-container-id-7 div.sk-container {/* jupyter's `normalize.less` sets `[hidden] { display: none; }` but bootstrap.min.css set `[hidden] { display: none !important; }` so we also need the `!important` here to be able to override the default hidden behavior on the sphinx rendered scikit-learn.org. See: https://github.com/scikit-learn/scikit-learn/issues/21755 */display: inline-block !important;position: relative;}#sk-container-id-7 div.sk-text-repr-fallback {display: none;}</style><div id=\"sk-container-id-7\" class=\"sk-top-container\"><div class=\"sk-text-repr-fallback\"><pre>GridSearchCV(cv=5, error_score=&#x27;raise&#x27;,\n",
              "             estimator=RandomForestClassifier(max_features=&#x27;auto&#x27;,\n",
              "                                              n_estimators=10, n_jobs=1,\n",
              "                                              random_state=1),\n",
              "             n_jobs=1,\n",
              "             param_grid={&#x27;max_depth&#x27;: [1, 3, 5, 7, 9, 11, 13, 15, 17, 19],\n",
              "                         &#x27;n_estimators&#x27;: [1, 21, 41, 61, 81, 101, 121, 141, 161,\n",
              "                                          181]},\n",
              "             return_train_score=&#x27;warn&#x27;)</pre><b>In a Jupyter environment, please rerun this cell to show the HTML representation or trust the notebook. <br />On GitHub, the HTML representation is unable to render, please try loading this page with nbviewer.org.</b></div><div class=\"sk-container\" hidden><div class=\"sk-item sk-dashed-wrapped\"><div class=\"sk-label-container\"><div class=\"sk-label sk-toggleable\"><input class=\"sk-toggleable__control sk-hidden--visually\" id=\"sk-estimator-id-7\" type=\"checkbox\" ><label for=\"sk-estimator-id-7\" class=\"sk-toggleable__label sk-toggleable__label-arrow\">GridSearchCV</label><div class=\"sk-toggleable__content\"><pre>GridSearchCV(cv=5, error_score=&#x27;raise&#x27;,\n",
              "             estimator=RandomForestClassifier(max_features=&#x27;auto&#x27;,\n",
              "                                              n_estimators=10, n_jobs=1,\n",
              "                                              random_state=1),\n",
              "             n_jobs=1,\n",
              "             param_grid={&#x27;max_depth&#x27;: [1, 3, 5, 7, 9, 11, 13, 15, 17, 19],\n",
              "                         &#x27;n_estimators&#x27;: [1, 21, 41, 61, 81, 101, 121, 141, 161,\n",
              "                                          181]},\n",
              "             return_train_score=&#x27;warn&#x27;)</pre></div></div></div><div class=\"sk-parallel\"><div class=\"sk-parallel-item\"><div class=\"sk-item\"><div class=\"sk-label-container\"><div class=\"sk-label sk-toggleable\"><input class=\"sk-toggleable__control sk-hidden--visually\" id=\"sk-estimator-id-8\" type=\"checkbox\" ><label for=\"sk-estimator-id-8\" class=\"sk-toggleable__label sk-toggleable__label-arrow\">estimator: RandomForestClassifier</label><div class=\"sk-toggleable__content\"><pre>RandomForestClassifier(max_features=&#x27;auto&#x27;, n_estimators=10, n_jobs=1,\n",
              "                       random_state=1)</pre></div></div></div><div class=\"sk-serial\"><div class=\"sk-item\"><div class=\"sk-estimator sk-toggleable\"><input class=\"sk-toggleable__control sk-hidden--visually\" id=\"sk-estimator-id-9\" type=\"checkbox\" ><label for=\"sk-estimator-id-9\" class=\"sk-toggleable__label sk-toggleable__label-arrow\">RandomForestClassifier</label><div class=\"sk-toggleable__content\"><pre>RandomForestClassifier(max_features=&#x27;auto&#x27;, n_estimators=10, n_jobs=1,\n",
              "                       random_state=1)</pre></div></div></div></div></div></div></div></div></div></div>"
            ],
            "text/plain": [
              "GridSearchCV(cv=5, error_score='raise',\n",
              "             estimator=RandomForestClassifier(max_features='auto',\n",
              "                                              n_estimators=10, n_jobs=1,\n",
              "                                              random_state=1),\n",
              "             n_jobs=1,\n",
              "             param_grid={'max_depth': [1, 3, 5, 7, 9, 11, 13, 15, 17, 19],\n",
              "                         'n_estimators': [1, 21, 41, 61, 81, 101, 121, 141, 161,\n",
              "                                          181]},\n",
              "             return_train_score='warn')"
            ]
          },
          "execution_count": 126,
          "metadata": {},
          "output_type": "execute_result"
        }
      ],
      "source": [
        "from sklearn.model_selection import GridSearchCV\n",
        "param_grid={'max_depth':list(range(1,20,2)),'n_estimators':list(range(1,200,20))}\n",
        "grid_search=GridSearchCV(cv=5, error_score='raise',\n",
        "                estimator=RandomForestClassifier(bootstrap=True, class_weight=None,\n",
        "                criterion='gini', max_depth=None, max_features='auto',\n",
        "                max_leaf_nodes=None, min_impurity_decrease=0.0,\n",
        "                min_samples_leaf=1, min_samples_split=2,\n",
        "                min_weight_fraction_leaf=0.0, n_estimators=10, n_jobs=1, oob_score=False,\n",
        "                random_state=1, verbose=0, warm_start=False)\n",
        "                , n_jobs=1,\n",
        "                param_grid={'max_depth': [1, 3, 5, 7, 9, 11, 13, 15, 17, 19],\n",
        "                'n_estimators': [1, 21, 41, 61, 81, 101, 121, 141, 161, 181]},\n",
        "                pre_dispatch='2*n_jobs', refit=True, return_train_score='warn',scoring=None, verbose=0)\n",
        "grid_search.fit(x_train,y_train)"
      ]
    },
    {
      "cell_type": "code",
      "execution_count": null,
      "id": "7e3d1e41",
      "metadata": {
        "id": "7e3d1e41",
        "outputId": "8015abcf-c2ef-4bf1-abf3-eeb5b9d323f0"
      },
      "outputs": [
        {
          "data": {
            "text/html": [
              "<style>#sk-container-id-4 {color: black;background-color: white;}#sk-container-id-4 pre{padding: 0;}#sk-container-id-4 div.sk-toggleable {background-color: white;}#sk-container-id-4 label.sk-toggleable__label {cursor: pointer;display: block;width: 100%;margin-bottom: 0;padding: 0.3em;box-sizing: border-box;text-align: center;}#sk-container-id-4 label.sk-toggleable__label-arrow:before {content: \"▸\";float: left;margin-right: 0.25em;color: #696969;}#sk-container-id-4 label.sk-toggleable__label-arrow:hover:before {color: black;}#sk-container-id-4 div.sk-estimator:hover label.sk-toggleable__label-arrow:before {color: black;}#sk-container-id-4 div.sk-toggleable__content {max-height: 0;max-width: 0;overflow: hidden;text-align: left;background-color: #f0f8ff;}#sk-container-id-4 div.sk-toggleable__content pre {margin: 0.2em;color: black;border-radius: 0.25em;background-color: #f0f8ff;}#sk-container-id-4 input.sk-toggleable__control:checked~div.sk-toggleable__content {max-height: 200px;max-width: 100%;overflow: auto;}#sk-container-id-4 input.sk-toggleable__control:checked~label.sk-toggleable__label-arrow:before {content: \"▾\";}#sk-container-id-4 div.sk-estimator input.sk-toggleable__control:checked~label.sk-toggleable__label {background-color: #d4ebff;}#sk-container-id-4 div.sk-label input.sk-toggleable__control:checked~label.sk-toggleable__label {background-color: #d4ebff;}#sk-container-id-4 input.sk-hidden--visually {border: 0;clip: rect(1px 1px 1px 1px);clip: rect(1px, 1px, 1px, 1px);height: 1px;margin: -1px;overflow: hidden;padding: 0;position: absolute;width: 1px;}#sk-container-id-4 div.sk-estimator {font-family: monospace;background-color: #f0f8ff;border: 1px dotted black;border-radius: 0.25em;box-sizing: border-box;margin-bottom: 0.5em;}#sk-container-id-4 div.sk-estimator:hover {background-color: #d4ebff;}#sk-container-id-4 div.sk-parallel-item::after {content: \"\";width: 100%;border-bottom: 1px solid gray;flex-grow: 1;}#sk-container-id-4 div.sk-label:hover label.sk-toggleable__label {background-color: #d4ebff;}#sk-container-id-4 div.sk-serial::before {content: \"\";position: absolute;border-left: 1px solid gray;box-sizing: border-box;top: 0;bottom: 0;left: 50%;z-index: 0;}#sk-container-id-4 div.sk-serial {display: flex;flex-direction: column;align-items: center;background-color: white;padding-right: 0.2em;padding-left: 0.2em;position: relative;}#sk-container-id-4 div.sk-item {position: relative;z-index: 1;}#sk-container-id-4 div.sk-parallel {display: flex;align-items: stretch;justify-content: center;background-color: white;position: relative;}#sk-container-id-4 div.sk-item::before, #sk-container-id-4 div.sk-parallel-item::before {content: \"\";position: absolute;border-left: 1px solid gray;box-sizing: border-box;top: 0;bottom: 0;left: 50%;z-index: -1;}#sk-container-id-4 div.sk-parallel-item {display: flex;flex-direction: column;z-index: 1;position: relative;background-color: white;}#sk-container-id-4 div.sk-parallel-item:first-child::after {align-self: flex-end;width: 50%;}#sk-container-id-4 div.sk-parallel-item:last-child::after {align-self: flex-start;width: 50%;}#sk-container-id-4 div.sk-parallel-item:only-child::after {width: 0;}#sk-container-id-4 div.sk-dashed-wrapped {border: 1px dashed gray;margin: 0 0.4em 0.5em 0.4em;box-sizing: border-box;padding-bottom: 0.4em;background-color: white;}#sk-container-id-4 div.sk-label label {font-family: monospace;font-weight: bold;display: inline-block;line-height: 1.2em;}#sk-container-id-4 div.sk-label-container {text-align: center;}#sk-container-id-4 div.sk-container {/* jupyter's `normalize.less` sets `[hidden] { display: none; }` but bootstrap.min.css set `[hidden] { display: none !important; }` so we also need the `!important` here to be able to override the default hidden behavior on the sphinx rendered scikit-learn.org. See: https://github.com/scikit-learn/scikit-learn/issues/21755 */display: inline-block !important;position: relative;}#sk-container-id-4 div.sk-text-repr-fallback {display: none;}</style><div id=\"sk-container-id-4\" class=\"sk-top-container\"><div class=\"sk-text-repr-fallback\"><pre>RandomForestClassifier(max_depth=3, max_features=&#x27;auto&#x27;, n_estimators=21,\n",
              "                       n_jobs=1, random_state=1)</pre><b>In a Jupyter environment, please rerun this cell to show the HTML representation or trust the notebook. <br />On GitHub, the HTML representation is unable to render, please try loading this page with nbviewer.org.</b></div><div class=\"sk-container\" hidden><div class=\"sk-item\"><div class=\"sk-estimator sk-toggleable\"><input class=\"sk-toggleable__control sk-hidden--visually\" id=\"sk-estimator-id-6\" type=\"checkbox\" checked><label for=\"sk-estimator-id-6\" class=\"sk-toggleable__label sk-toggleable__label-arrow\">RandomForestClassifier</label><div class=\"sk-toggleable__content\"><pre>RandomForestClassifier(max_depth=3, max_features=&#x27;auto&#x27;, n_estimators=21,\n",
              "                       n_jobs=1, random_state=1)</pre></div></div></div></div></div>"
            ],
            "text/plain": [
              "RandomForestClassifier(max_depth=3, max_features='auto', n_estimators=21,\n",
              "                       n_jobs=1, random_state=1)"
            ]
          },
          "execution_count": 129,
          "metadata": {},
          "output_type": "execute_result"
        }
      ],
      "source": [
        "grid_search.best_estimator_"
      ]
    },
    {
      "cell_type": "code",
      "execution_count": null,
      "id": "6c281b3b",
      "metadata": {
        "scrolled": true,
        "id": "6c281b3b",
        "outputId": "af4ce963-f8af-4d7a-8efa-aa2718eb5b78"
      },
      "outputs": [
        {
          "data": {
            "text/plain": [
              "{'max_depth': 3, 'n_estimators': 21}"
            ]
          },
          "execution_count": 128,
          "metadata": {},
          "output_type": "execute_result"
        }
      ],
      "source": [
        "grid_search.best_params_"
      ]
    },
    {
      "cell_type": "code",
      "execution_count": null,
      "id": "56dc4fc6",
      "metadata": {
        "id": "56dc4fc6",
        "outputId": "425b84b2-d92b-4f45-c07e-df808cc351e1"
      },
      "outputs": [
        {
          "data": {
            "text/plain": [
              "0.8043228454172366"
            ]
          },
          "execution_count": 127,
          "metadata": {},
          "output_type": "execute_result"
        }
      ],
      "source": [
        "grid_search.best_score_"
      ]
    },
    {
      "cell_type": "code",
      "execution_count": null,
      "id": "6117a1b2",
      "metadata": {
        "id": "6117a1b2",
        "outputId": "c7d315eb-9192-4119-cd11-144255afb536"
      },
      "outputs": [
        {
          "name": "stdout",
          "output_type": "stream",
          "text": [
            "1 of kfold5\n",
            "accuracy_score 0.8048780487804879\n",
            "2 of kfold5\n",
            "accuracy_score 0.7560975609756098\n",
            "3 of kfold5\n",
            "accuracy_score 0.8292682926829268\n",
            "4 of kfold5\n",
            "accuracy_score 0.8130081300813008\n",
            "5 of kfold5\n",
            "accuracy_score 0.860655737704918\n"
          ]
        }
      ],
      "source": [
        "i=1\n",
        "sc=[]\n",
        "kf=StratifiedKFold(n_splits=5,random_state=5,shuffle=True)\n",
        "for train_index,test_index in kf.split(X,y):\n",
        "    print('{} of kfold{}'.format(i,kf.n_splits))\n",
        "    train_x,val_x=X.iloc[train_index],X.iloc[test_index]\n",
        "    train_y,val_y=y.loc[train_index],y.loc[test_index]\n",
        "    model=RandomForestClassifier(random_state=1,max_depth=3,n_estimators=21)\n",
        "    model.fit(train_x,train_y)\n",
        "    pred_test=model.predict(val_x)\n",
        "    score=accuracy_score(val_y,pred_test)\n",
        "    print('accuracy_score',score)\n",
        "    sc.append(score)\n",
        "    i+=1\n",
        "pred_test=model.predict(test)\n",
        "pred2=model.predict_proba(test)[:,1]"
      ]
    },
    {
      "cell_type": "code",
      "execution_count": null,
      "id": "5f40fd6a",
      "metadata": {
        "id": "5f40fd6a",
        "outputId": "c7bbf391-60d4-4e43-915e-9b88f506198b"
      },
      "outputs": [
        {
          "name": "stdout",
          "output_type": "stream",
          "text": [
            "mean: 0.8127815540450486\n"
          ]
        }
      ],
      "source": [
        "print('mean:',sum(sc)/len(sc))"
      ]
    },
    {
      "cell_type": "code",
      "execution_count": null,
      "id": "1b813042",
      "metadata": {
        "id": "1b813042"
      },
      "outputs": [],
      "source": [
        "submission['Loan_Status']=pred_test\n",
        "submission['Loan_ID']=test_original['Loan_ID']\n",
        "submission['Loan_Status'].replace(0, 'N',inplace=True)\n",
        "submission['Loan_Status'].replace(1, 'Y',inplace=True)"
      ]
    },
    {
      "cell_type": "code",
      "execution_count": null,
      "id": "b3dad0c8",
      "metadata": {
        "id": "b3dad0c8"
      },
      "outputs": [],
      "source": [
        "pd.DataFrame(submission, columns=['Loan_ID','Loan_Status']).to_csv('Random  Forest.csv')"
      ]
    },
    {
      "cell_type": "code",
      "execution_count": null,
      "id": "247fd9a2",
      "metadata": {
        "id": "247fd9a2",
        "outputId": "5056f4d0-3cf8-470c-c6c6-5b1b384ef922"
      },
      "outputs": [
        {
          "data": {
            "image/png": "[encoded data removed]",
            "text/plain": [
              "<Figure size 640x480 with 1 Axes>"
            ]
          },
          "metadata": {},
          "output_type": "display_data"
        }
      ],
      "source": [
        "importance=pd.Series(model.feature_importances_,index=X.columns).sort_values(ascending=True).plot(kind='barh')"
      ]
    },
    {
      "cell_type": "code",
      "execution_count": null,
      "id": "cf476921",
      "metadata": {
        "id": "cf476921"
      },
      "outputs": [],
      "source": [
        "cols=['loanamount_log','Total_Income','logtotal_income','EMI','Balance_Income']"
      ]
    },
    {
      "cell_type": "code",
      "execution_count": null,
      "id": "5fbed04e",
      "metadata": {
        "id": "5fbed04e"
      },
      "outputs": [],
      "source": [
        "X[cols]=train[cols]"
      ]
    },
    {
      "cell_type": "code",
      "execution_count": null,
      "id": "9a57f586",
      "metadata": {
        "id": "9a57f586",
        "outputId": "10de6a5d-f016-4919-eb34-aca543856b3b"
      },
      "outputs": [
        {
          "data": {
            "text/plain": [
              "Text(50.722222222222214, 0.5, 'Actual')"
            ]
          },
          "execution_count": 62,
          "metadata": {},
          "output_type": "execute_result"
        },
        {
          "data": {
            "image/png": "[encoded data removed]",
            "text/plain": [
              "<Figure size 640x480 with 2 Axes>"
            ]
          },
          "metadata": {},
          "output_type": "display_data"
        }
      ],
      "source": [
        "from sklearn.metrics import confusion_matrix # we can see false negatives are more\n",
        "cm=confusion_matrix(y_cv,pred_cv)\n",
        "sns.heatmap(cm,annot=True,cmap='BuPu',fmt='d')\n",
        "plt.xlabel('Predicted')\n",
        "plt.ylabel('Actual')"
      ]
    },
    {
      "cell_type": "code",
      "execution_count": null,
      "id": "ed278107",
      "metadata": {
        "id": "ed278107",
        "outputId": "43764741-24b3-45fd-c447-5d11a67bcb92"
      },
      "outputs": [
        {
          "name": "stdout",
          "output_type": "stream",
          "text": [
            "              precision    recall  f1-score   support\n",
            "\n",
            "           0       0.96      0.40      0.56        55\n",
            "           1       0.80      0.99      0.88       130\n",
            "\n",
            "    accuracy                           0.82       185\n",
            "   macro avg       0.88      0.70      0.72       185\n",
            "weighted avg       0.84      0.82      0.79       185\n",
            "\n"
          ]
        }
      ],
      "source": [
        "from sklearn.metrics import classification_report\n",
        "print(classification_report(y_cv,pred_cv))"
      ]
    },
    {
      "cell_type": "code",
      "execution_count": null,
      "id": "3b09647e",
      "metadata": {
        "id": "3b09647e",
        "outputId": "3b90bd22-5c4d-4b49-9b93-bb46cfdad5d5"
      },
      "outputs": [
        {
          "data": {
            "text/html": [
              "<style>#sk-container-id-3 {color: black;background-color: white;}#sk-container-id-3 pre{padding: 0;}#sk-container-id-3 div.sk-toggleable {background-color: white;}#sk-container-id-3 label.sk-toggleable__label {cursor: pointer;display: block;width: 100%;margin-bottom: 0;padding: 0.3em;box-sizing: border-box;text-align: center;}#sk-container-id-3 label.sk-toggleable__label-arrow:before {content: \"▸\";float: left;margin-right: 0.25em;color: #696969;}#sk-container-id-3 label.sk-toggleable__label-arrow:hover:before {color: black;}#sk-container-id-3 div.sk-estimator:hover label.sk-toggleable__label-arrow:before {color: black;}#sk-container-id-3 div.sk-toggleable__content {max-height: 0;max-width: 0;overflow: hidden;text-align: left;background-color: #f0f8ff;}#sk-container-id-3 div.sk-toggleable__content pre {margin: 0.2em;color: black;border-radius: 0.25em;background-color: #f0f8ff;}#sk-container-id-3 input.sk-toggleable__control:checked~div.sk-toggleable__content {max-height: 200px;max-width: 100%;overflow: auto;}#sk-container-id-3 input.sk-toggleable__control:checked~label.sk-toggleable__label-arrow:before {content: \"▾\";}#sk-container-id-3 div.sk-estimator input.sk-toggleable__control:checked~label.sk-toggleable__label {background-color: #d4ebff;}#sk-container-id-3 div.sk-label input.sk-toggleable__control:checked~label.sk-toggleable__label {background-color: #d4ebff;}#sk-container-id-3 input.sk-hidden--visually {border: 0;clip: rect(1px 1px 1px 1px);clip: rect(1px, 1px, 1px, 1px);height: 1px;margin: -1px;overflow: hidden;padding: 0;position: absolute;width: 1px;}#sk-container-id-3 div.sk-estimator {font-family: monospace;background-color: #f0f8ff;border: 1px dotted black;border-radius: 0.25em;box-sizing: border-box;margin-bottom: 0.5em;}#sk-container-id-3 div.sk-estimator:hover {background-color: #d4ebff;}#sk-container-id-3 div.sk-parallel-item::after {content: \"\";width: 100%;border-bottom: 1px solid gray;flex-grow: 1;}#sk-container-id-3 div.sk-label:hover label.sk-toggleable__label {background-color: #d4ebff;}#sk-container-id-3 div.sk-serial::before {content: \"\";position: absolute;border-left: 1px solid gray;box-sizing: border-box;top: 0;bottom: 0;left: 50%;z-index: 0;}#sk-container-id-3 div.sk-serial {display: flex;flex-direction: column;align-items: center;background-color: white;padding-right: 0.2em;padding-left: 0.2em;position: relative;}#sk-container-id-3 div.sk-item {position: relative;z-index: 1;}#sk-container-id-3 div.sk-parallel {display: flex;align-items: stretch;justify-content: center;background-color: white;position: relative;}#sk-container-id-3 div.sk-item::before, #sk-container-id-3 div.sk-parallel-item::before {content: \"\";position: absolute;border-left: 1px solid gray;box-sizing: border-box;top: 0;bottom: 0;left: 50%;z-index: -1;}#sk-container-id-3 div.sk-parallel-item {display: flex;flex-direction: column;z-index: 1;position: relative;background-color: white;}#sk-container-id-3 div.sk-parallel-item:first-child::after {align-self: flex-end;width: 50%;}#sk-container-id-3 div.sk-parallel-item:last-child::after {align-self: flex-start;width: 50%;}#sk-container-id-3 div.sk-parallel-item:only-child::after {width: 0;}#sk-container-id-3 div.sk-dashed-wrapped {border: 1px dashed gray;margin: 0 0.4em 0.5em 0.4em;box-sizing: border-box;padding-bottom: 0.4em;background-color: white;}#sk-container-id-3 div.sk-label label {font-family: monospace;font-weight: bold;display: inline-block;line-height: 1.2em;}#sk-container-id-3 div.sk-label-container {text-align: center;}#sk-container-id-3 div.sk-container {/* jupyter's `normalize.less` sets `[hidden] { display: none; }` but bootstrap.min.css set `[hidden] { display: none !important; }` so we also need the `!important` here to be able to override the default hidden behavior on the sphinx rendered scikit-learn.org. See: https://github.com/scikit-learn/scikit-learn/issues/21755 */display: inline-block !important;position: relative;}#sk-container-id-3 div.sk-text-repr-fallback {display: none;}</style><div id=\"sk-container-id-3\" class=\"sk-top-container\"><div class=\"sk-text-repr-fallback\"><pre>RandomForestClassifier(max_depth=10, random_state=5)</pre><b>In a Jupyter environment, please rerun this cell to show the HTML representation or trust the notebook. <br />On GitHub, the HTML representation is unable to render, please try loading this page with nbviewer.org.</b></div><div class=\"sk-container\" hidden><div class=\"sk-item\"><div class=\"sk-estimator sk-toggleable\"><input class=\"sk-toggleable__control sk-hidden--visually\" id=\"sk-estimator-id-3\" type=\"checkbox\" checked><label for=\"sk-estimator-id-3\" class=\"sk-toggleable__label sk-toggleable__label-arrow\">RandomForestClassifier</label><div class=\"sk-toggleable__content\"><pre>RandomForestClassifier(max_depth=10, random_state=5)</pre></div></div></div></div></div>"
            ],
            "text/plain": [
              "RandomForestClassifier(max_depth=10, random_state=5)"
            ]
          },
          "execution_count": 64,
          "metadata": {},
          "output_type": "execute_result"
        }
      ],
      "source": [
        "from imblearn.over_sampling import SMOTE #oversampling\n",
        "smote=SMOTE(random_state=5)\n",
        "x_train_resampled, y_train_resampled = smote.fit_resample(x_train, y_train)\n",
        "x_cv_resampled, y_cv_resampled = smote.fit_resample(x_cv, y_cv)\n",
        "model.fit(x_train_resampled,y_train_resampled)"
      ]
    },
    {
      "cell_type": "code",
      "execution_count": null,
      "id": "91e8aa1e",
      "metadata": {
        "id": "91e8aa1e",
        "outputId": "ac6ee3ec-d819-400e-825c-f2b87f9652e4"
      },
      "outputs": [
        {
          "data": {
            "text/plain": [
              "0.7538461538461538"
            ]
          },
          "execution_count": 65,
          "metadata": {},
          "output_type": "execute_result"
        }
      ],
      "source": [
        "pred_test=model.predict(x_cv_resampled)\n",
        "accuracy_score(y_cv_resampled,pred_test)"
      ]
    },
    {
      "cell_type": "code",
      "execution_count": null,
      "id": "7cf75803",
      "metadata": {
        "scrolled": true,
        "id": "7cf75803",
        "outputId": "ddf4963a-e251-43e8-9417-4025a1f3902f"
      },
      "outputs": [
        {
          "data": {
            "text/plain": [
              "Text(50.722222222222214, 0.5, 'Actual')"
            ]
          },
          "execution_count": 66,
          "metadata": {},
          "output_type": "execute_result"
        },
        {
          "data": {
            "image/png": "[encoded data removed]",
            "text/plain": [
              "<Figure size 640x480 with 2 Axes>"
            ]
          },
          "metadata": {},
          "output_type": "display_data"
        }
      ],
      "source": [
        "from sklearn.metrics import confusion_matrix # we can see false negatives are more\n",
        "cm=confusion_matrix(y_cv_resampled,pred_test)\n",
        "sns.heatmap(cm,annot=True,cmap='BuPu',fmt='d')\n",
        "plt.xlabel('Predicted')\n",
        "plt.ylabel('Actual')"
      ]
    },
    {
      "cell_type": "code",
      "execution_count": null,
      "id": "65eeb405",
      "metadata": {
        "id": "65eeb405"
      },
      "outputs": [],
      "source": [
        "pred_proba1=model.predict_proba(x_cv_resampled)[:,1]\n",
        "adjusted_threshold=0.3\n",
        "pred_proba1_adjusted=(pred_proba1>adjusted_threshold).astype(int)"
      ]
    },
    {
      "cell_type": "code",
      "execution_count": null,
      "id": "883583aa",
      "metadata": {
        "id": "883583aa",
        "outputId": "86b43af1-b098-4546-e3af-e441e3316a62"
      },
      "outputs": [
        {
          "data": {
            "text/plain": [
              "array([0, 1, 1, 0, 1, 1, 1, 1, 1, 0, 1, 1, 0, 1, 1, 1, 0, 1, 1, 1, 0, 1,\n",
              "       1, 1, 1, 1, 1, 1, 1, 1, 1, 1, 1, 1, 1, 1, 1, 1, 1, 1, 0, 1, 1, 1,\n",
              "       0, 1, 1, 1, 1, 0, 1, 0, 1, 1, 1, 1, 1, 1, 1, 1, 0, 1, 1, 1, 1, 1,\n",
              "       1, 1, 1, 1, 1, 1, 1, 1, 0, 1, 1, 1, 1, 0, 1, 1, 1, 1, 1, 1, 1, 1,\n",
              "       1, 1, 1, 1, 1, 1, 1, 1, 1, 1, 1, 1, 1, 1, 1, 1, 1, 1, 1, 1, 1, 0,\n",
              "       1, 1, 1, 1, 1, 1, 1, 1, 1, 1, 0, 1, 1, 1, 1, 1, 0, 1, 1, 1, 1, 1,\n",
              "       1, 1, 1, 1, 1, 1, 0, 1, 1, 1, 1, 1, 1, 1, 1, 1, 1, 0, 1, 1, 1, 1,\n",
              "       1, 1, 0, 1, 1, 1, 1, 1, 1, 1, 1, 1, 1, 0, 1, 1, 1, 1, 1, 1, 1, 1,\n",
              "       0, 0, 1, 0, 1, 1, 1, 1, 1, 0, 0, 0, 0, 0, 0, 0, 0, 0, 0, 0, 0, 0,\n",
              "       0, 0, 0, 0, 0, 0, 0, 0, 0, 0, 0, 0, 0, 0, 0, 0, 0, 0, 0, 0, 0, 0,\n",
              "       0, 0, 0, 1, 0, 0, 0, 0, 0, 0, 0, 0, 0, 0, 0, 0, 0, 0, 0, 0, 0, 0,\n",
              "       0, 0, 0, 0, 0, 0, 0, 0, 1, 0, 0, 0])"
            ]
          },
          "execution_count": 268,
          "metadata": {},
          "output_type": "execute_result"
        }
      ],
      "source": [
        "pred_proba1_adjusted"
      ]
    },
    {
      "cell_type": "code",
      "execution_count": null,
      "id": "4b96ed02",
      "metadata": {
        "id": "4b96ed02",
        "outputId": "e95b89f5-8d4c-4b25-de33-1939663ba06d"
      },
      "outputs": [
        {
          "name": "stdout",
          "output_type": "stream",
          "text": [
            "              precision    recall  f1-score   support\n",
            "\n",
            "           0       0.89      0.45      0.60       130\n",
            "           1       0.63      0.95      0.76       130\n",
            "\n",
            "    accuracy                           0.70       260\n",
            "   macro avg       0.76      0.70      0.68       260\n",
            "weighted avg       0.76      0.70      0.68       260\n",
            "\n"
          ]
        }
      ],
      "source": [
        "from sklearn.metrics import classification_report\n",
        "print(classification_report(y_cv_resampled,pred_proba1_adjusted))"
      ]
    },
    {
      "cell_type": "code",
      "execution_count": null,
      "id": "48ddc5d2",
      "metadata": {
        "id": "48ddc5d2"
      },
      "outputs": [],
      "source": [
        "pred_test=model.predict(test)"
      ]
    },
    {
      "cell_type": "code",
      "execution_count": null,
      "id": "60eddf7b",
      "metadata": {
        "id": "60eddf7b"
      },
      "outputs": [],
      "source": [
        "submission['Loan_Status']=pred_test\n",
        "submission['Loan_ID']=test_original['Loan_ID']\n",
        "submission['Loan_Status'].replace(0, 'N',inplace=True)\n",
        "submission['Loan_Status'].replace(1, 'Y',inplace=True)"
      ]
    },
    {
      "cell_type": "code",
      "execution_count": null,
      "id": "6623dbfe",
      "metadata": {
        "id": "6623dbfe"
      },
      "outputs": [],
      "source": [
        "pd.DataFrame(submission, columns=['Loan_ID','Loan_Status']).to_csv('lghyperparametertuning.csv')"
      ]
    },
    {
      "cell_type": "code",
      "execution_count": null,
      "id": "9cd65324",
      "metadata": {
        "id": "9cd65324",
        "outputId": "d165ba77-386a-4fd0-ce1c-25a9b05ad3be"
      },
      "outputs": [
        {
          "data": {
            "text/html": [
              "<style>#sk-container-id-4 {color: black;background-color: white;}#sk-container-id-4 pre{padding: 0;}#sk-container-id-4 div.sk-toggleable {background-color: white;}#sk-container-id-4 label.sk-toggleable__label {cursor: pointer;display: block;width: 100%;margin-bottom: 0;padding: 0.3em;box-sizing: border-box;text-align: center;}#sk-container-id-4 label.sk-toggleable__label-arrow:before {content: \"▸\";float: left;margin-right: 0.25em;color: #696969;}#sk-container-id-4 label.sk-toggleable__label-arrow:hover:before {color: black;}#sk-container-id-4 div.sk-estimator:hover label.sk-toggleable__label-arrow:before {color: black;}#sk-container-id-4 div.sk-toggleable__content {max-height: 0;max-width: 0;overflow: hidden;text-align: left;background-color: #f0f8ff;}#sk-container-id-4 div.sk-toggleable__content pre {margin: 0.2em;color: black;border-radius: 0.25em;background-color: #f0f8ff;}#sk-container-id-4 input.sk-toggleable__control:checked~div.sk-toggleable__content {max-height: 200px;max-width: 100%;overflow: auto;}#sk-container-id-4 input.sk-toggleable__control:checked~label.sk-toggleable__label-arrow:before {content: \"▾\";}#sk-container-id-4 div.sk-estimator input.sk-toggleable__control:checked~label.sk-toggleable__label {background-color: #d4ebff;}#sk-container-id-4 div.sk-label input.sk-toggleable__control:checked~label.sk-toggleable__label {background-color: #d4ebff;}#sk-container-id-4 input.sk-hidden--visually {border: 0;clip: rect(1px 1px 1px 1px);clip: rect(1px, 1px, 1px, 1px);height: 1px;margin: -1px;overflow: hidden;padding: 0;position: absolute;width: 1px;}#sk-container-id-4 div.sk-estimator {font-family: monospace;background-color: #f0f8ff;border: 1px dotted black;border-radius: 0.25em;box-sizing: border-box;margin-bottom: 0.5em;}#sk-container-id-4 div.sk-estimator:hover {background-color: #d4ebff;}#sk-container-id-4 div.sk-parallel-item::after {content: \"\";width: 100%;border-bottom: 1px solid gray;flex-grow: 1;}#sk-container-id-4 div.sk-label:hover label.sk-toggleable__label {background-color: #d4ebff;}#sk-container-id-4 div.sk-serial::before {content: \"\";position: absolute;border-left: 1px solid gray;box-sizing: border-box;top: 0;bottom: 0;left: 50%;z-index: 0;}#sk-container-id-4 div.sk-serial {display: flex;flex-direction: column;align-items: center;background-color: white;padding-right: 0.2em;padding-left: 0.2em;position: relative;}#sk-container-id-4 div.sk-item {position: relative;z-index: 1;}#sk-container-id-4 div.sk-parallel {display: flex;align-items: stretch;justify-content: center;background-color: white;position: relative;}#sk-container-id-4 div.sk-item::before, #sk-container-id-4 div.sk-parallel-item::before {content: \"\";position: absolute;border-left: 1px solid gray;box-sizing: border-box;top: 0;bottom: 0;left: 50%;z-index: -1;}#sk-container-id-4 div.sk-parallel-item {display: flex;flex-direction: column;z-index: 1;position: relative;background-color: white;}#sk-container-id-4 div.sk-parallel-item:first-child::after {align-self: flex-end;width: 50%;}#sk-container-id-4 div.sk-parallel-item:last-child::after {align-self: flex-start;width: 50%;}#sk-container-id-4 div.sk-parallel-item:only-child::after {width: 0;}#sk-container-id-4 div.sk-dashed-wrapped {border: 1px dashed gray;margin: 0 0.4em 0.5em 0.4em;box-sizing: border-box;padding-bottom: 0.4em;background-color: white;}#sk-container-id-4 div.sk-label label {font-family: monospace;font-weight: bold;display: inline-block;line-height: 1.2em;}#sk-container-id-4 div.sk-label-container {text-align: center;}#sk-container-id-4 div.sk-container {/* jupyter's `normalize.less` sets `[hidden] { display: none; }` but bootstrap.min.css set `[hidden] { display: none !important; }` so we also need the `!important` here to be able to override the default hidden behavior on the sphinx rendered scikit-learn.org. See: https://github.com/scikit-learn/scikit-learn/issues/21755 */display: inline-block !important;position: relative;}#sk-container-id-4 div.sk-text-repr-fallback {display: none;}</style><div id=\"sk-container-id-4\" class=\"sk-top-container\"><div class=\"sk-text-repr-fallback\"><pre>GridSearchCV(estimator=LogisticRegression(),\n",
              "             param_grid={&#x27;C&#x27;: [0.001, 0.01, 0.1, 1, 10, 100],\n",
              "                         &#x27;penalty&#x27;: [&#x27;l1&#x27;, &#x27;l2&#x27;, &#x27;elasticnet&#x27;, &#x27;none&#x27;],\n",
              "                         &#x27;solver&#x27;: [&#x27;newton-cg&#x27;, &#x27;lbfgs&#x27;, &#x27;liblinear&#x27;, &#x27;sag&#x27;,\n",
              "                                    &#x27;saga&#x27;]},\n",
              "             scoring=&#x27;accuracy&#x27;)</pre><b>In a Jupyter environment, please rerun this cell to show the HTML representation or trust the notebook. <br />On GitHub, the HTML representation is unable to render, please try loading this page with nbviewer.org.</b></div><div class=\"sk-container\" hidden><div class=\"sk-item sk-dashed-wrapped\"><div class=\"sk-label-container\"><div class=\"sk-label sk-toggleable\"><input class=\"sk-toggleable__control sk-hidden--visually\" id=\"sk-estimator-id-4\" type=\"checkbox\" ><label for=\"sk-estimator-id-4\" class=\"sk-toggleable__label sk-toggleable__label-arrow\">GridSearchCV</label><div class=\"sk-toggleable__content\"><pre>GridSearchCV(estimator=LogisticRegression(),\n",
              "             param_grid={&#x27;C&#x27;: [0.001, 0.01, 0.1, 1, 10, 100],\n",
              "                         &#x27;penalty&#x27;: [&#x27;l1&#x27;, &#x27;l2&#x27;, &#x27;elasticnet&#x27;, &#x27;none&#x27;],\n",
              "                         &#x27;solver&#x27;: [&#x27;newton-cg&#x27;, &#x27;lbfgs&#x27;, &#x27;liblinear&#x27;, &#x27;sag&#x27;,\n",
              "                                    &#x27;saga&#x27;]},\n",
              "             scoring=&#x27;accuracy&#x27;)</pre></div></div></div><div class=\"sk-parallel\"><div class=\"sk-parallel-item\"><div class=\"sk-item\"><div class=\"sk-label-container\"><div class=\"sk-label sk-toggleable\"><input class=\"sk-toggleable__control sk-hidden--visually\" id=\"sk-estimator-id-5\" type=\"checkbox\" ><label for=\"sk-estimator-id-5\" class=\"sk-toggleable__label sk-toggleable__label-arrow\">estimator: LogisticRegression</label><div class=\"sk-toggleable__content\"><pre>LogisticRegression()</pre></div></div></div><div class=\"sk-serial\"><div class=\"sk-item\"><div class=\"sk-estimator sk-toggleable\"><input class=\"sk-toggleable__control sk-hidden--visually\" id=\"sk-estimator-id-6\" type=\"checkbox\" ><label for=\"sk-estimator-id-6\" class=\"sk-toggleable__label sk-toggleable__label-arrow\">LogisticRegression</label><div class=\"sk-toggleable__content\"><pre>LogisticRegression()</pre></div></div></div></div></div></div></div></div></div></div>"
            ],
            "text/plain": [
              "GridSearchCV(estimator=LogisticRegression(),\n",
              "             param_grid={'C': [0.001, 0.01, 0.1, 1, 10, 100],\n",
              "                         'penalty': ['l1', 'l2', 'elasticnet', 'none'],\n",
              "                         'solver': ['newton-cg', 'lbfgs', 'liblinear', 'sag',\n",
              "                                    'saga']},\n",
              "             scoring='accuracy')"
            ]
          },
          "execution_count": 67,
          "metadata": {},
          "output_type": "execute_result"
        }
      ],
      "source": [
        "from sklearn.model_selection import GridSearchCV\n",
        "model = LogisticRegression()\n",
        "param_grid = {'penalty':['l1','l2','elasticnet','none'],\n",
        "    'C': [0.001, 0.01, 0.1, 1, 10, 100],\n",
        "    'solver': ['newton-cg', 'lbfgs', 'liblinear', 'sag', 'saga']\n",
        "}\n",
        "grid_search = GridSearchCV(model,param_grid,scoring='accuracy',verbose=0)\n",
        "grid_search.fit(x_train,y_train)\n"
      ]
    },
    {
      "cell_type": "code",
      "execution_count": null,
      "id": "2d343eaf",
      "metadata": {
        "id": "2d343eaf",
        "outputId": "f5427d44-4ab1-4981-a3ac-31a17a458d04"
      },
      "outputs": [
        {
          "data": {
            "text/html": [
              "<style>#sk-container-id-5 {color: black;background-color: white;}#sk-container-id-5 pre{padding: 0;}#sk-container-id-5 div.sk-toggleable {background-color: white;}#sk-container-id-5 label.sk-toggleable__label {cursor: pointer;display: block;width: 100%;margin-bottom: 0;padding: 0.3em;box-sizing: border-box;text-align: center;}#sk-container-id-5 label.sk-toggleable__label-arrow:before {content: \"▸\";float: left;margin-right: 0.25em;color: #696969;}#sk-container-id-5 label.sk-toggleable__label-arrow:hover:before {color: black;}#sk-container-id-5 div.sk-estimator:hover label.sk-toggleable__label-arrow:before {color: black;}#sk-container-id-5 div.sk-toggleable__content {max-height: 0;max-width: 0;overflow: hidden;text-align: left;background-color: #f0f8ff;}#sk-container-id-5 div.sk-toggleable__content pre {margin: 0.2em;color: black;border-radius: 0.25em;background-color: #f0f8ff;}#sk-container-id-5 input.sk-toggleable__control:checked~div.sk-toggleable__content {max-height: 200px;max-width: 100%;overflow: auto;}#sk-container-id-5 input.sk-toggleable__control:checked~label.sk-toggleable__label-arrow:before {content: \"▾\";}#sk-container-id-5 div.sk-estimator input.sk-toggleable__control:checked~label.sk-toggleable__label {background-color: #d4ebff;}#sk-container-id-5 div.sk-label input.sk-toggleable__control:checked~label.sk-toggleable__label {background-color: #d4ebff;}#sk-container-id-5 input.sk-hidden--visually {border: 0;clip: rect(1px 1px 1px 1px);clip: rect(1px, 1px, 1px, 1px);height: 1px;margin: -1px;overflow: hidden;padding: 0;position: absolute;width: 1px;}#sk-container-id-5 div.sk-estimator {font-family: monospace;background-color: #f0f8ff;border: 1px dotted black;border-radius: 0.25em;box-sizing: border-box;margin-bottom: 0.5em;}#sk-container-id-5 div.sk-estimator:hover {background-color: #d4ebff;}#sk-container-id-5 div.sk-parallel-item::after {content: \"\";width: 100%;border-bottom: 1px solid gray;flex-grow: 1;}#sk-container-id-5 div.sk-label:hover label.sk-toggleable__label {background-color: #d4ebff;}#sk-container-id-5 div.sk-serial::before {content: \"\";position: absolute;border-left: 1px solid gray;box-sizing: border-box;top: 0;bottom: 0;left: 50%;z-index: 0;}#sk-container-id-5 div.sk-serial {display: flex;flex-direction: column;align-items: center;background-color: white;padding-right: 0.2em;padding-left: 0.2em;position: relative;}#sk-container-id-5 div.sk-item {position: relative;z-index: 1;}#sk-container-id-5 div.sk-parallel {display: flex;align-items: stretch;justify-content: center;background-color: white;position: relative;}#sk-container-id-5 div.sk-item::before, #sk-container-id-5 div.sk-parallel-item::before {content: \"\";position: absolute;border-left: 1px solid gray;box-sizing: border-box;top: 0;bottom: 0;left: 50%;z-index: -1;}#sk-container-id-5 div.sk-parallel-item {display: flex;flex-direction: column;z-index: 1;position: relative;background-color: white;}#sk-container-id-5 div.sk-parallel-item:first-child::after {align-self: flex-end;width: 50%;}#sk-container-id-5 div.sk-parallel-item:last-child::after {align-self: flex-start;width: 50%;}#sk-container-id-5 div.sk-parallel-item:only-child::after {width: 0;}#sk-container-id-5 div.sk-dashed-wrapped {border: 1px dashed gray;margin: 0 0.4em 0.5em 0.4em;box-sizing: border-box;padding-bottom: 0.4em;background-color: white;}#sk-container-id-5 div.sk-label label {font-family: monospace;font-weight: bold;display: inline-block;line-height: 1.2em;}#sk-container-id-5 div.sk-label-container {text-align: center;}#sk-container-id-5 div.sk-container {/* jupyter's `normalize.less` sets `[hidden] { display: none; }` but bootstrap.min.css set `[hidden] { display: none !important; }` so we also need the `!important` here to be able to override the default hidden behavior on the sphinx rendered scikit-learn.org. See: https://github.com/scikit-learn/scikit-learn/issues/21755 */display: inline-block !important;position: relative;}#sk-container-id-5 div.sk-text-repr-fallback {display: none;}</style><div id=\"sk-container-id-5\" class=\"sk-top-container\"><div class=\"sk-text-repr-fallback\"><pre>LogisticRegression(C=0.001, penalty=&#x27;none&#x27;, solver=&#x27;newton-cg&#x27;)</pre><b>In a Jupyter environment, please rerun this cell to show the HTML representation or trust the notebook. <br />On GitHub, the HTML representation is unable to render, please try loading this page with nbviewer.org.</b></div><div class=\"sk-container\" hidden><div class=\"sk-item\"><div class=\"sk-estimator sk-toggleable\"><input class=\"sk-toggleable__control sk-hidden--visually\" id=\"sk-estimator-id-7\" type=\"checkbox\" checked><label for=\"sk-estimator-id-7\" class=\"sk-toggleable__label sk-toggleable__label-arrow\">LogisticRegression</label><div class=\"sk-toggleable__content\"><pre>LogisticRegression(C=0.001, penalty=&#x27;none&#x27;, solver=&#x27;newton-cg&#x27;)</pre></div></div></div></div></div>"
            ],
            "text/plain": [
              "LogisticRegression(C=0.001, penalty='none', solver='newton-cg')"
            ]
          },
          "execution_count": 68,
          "metadata": {},
          "output_type": "execute_result"
        }
      ],
      "source": [
        "grid_search.best_estimator_"
      ]
    },
    {
      "cell_type": "code",
      "execution_count": null,
      "id": "b14bfc05",
      "metadata": {
        "id": "b14bfc05",
        "outputId": "844d94f2-bdb1-45c8-b05d-7656f3e95dc9"
      },
      "outputs": [
        {
          "data": {
            "text/plain": [
              "0.8112995896032832"
            ]
          },
          "execution_count": 69,
          "metadata": {},
          "output_type": "execute_result"
        }
      ],
      "source": [
        "grid_search.best_score_ # score without penalty is high so we are not proceeding with this"
      ]
    },
    {
      "cell_type": "code",
      "execution_count": null,
      "id": "75e6dca3",
      "metadata": {
        "id": "75e6dca3",
        "outputId": "91ad619b-c3ef-4fa8-b081-fd2331aa70d5"
      },
      "outputs": [
        {
          "data": {
            "text/plain": [
              "0.8054054054054054"
            ]
          },
          "execution_count": 73,
          "metadata": {},
          "output_type": "execute_result"
        }
      ],
      "source": [
        "model=LogisticRegression(C=0.001,penalty='none',solver='newton-cg')\n",
        "model.fit(x_train,y_train)\n",
        "pred_test=model.predict(x_cv)\n",
        "accuracy_score(y_cv,pred_test)"
      ]
    },
    {
      "cell_type": "markdown",
      "id": "d4a4d686",
      "metadata": {
        "id": "d4a4d686"
      },
      "source": [
        "# Xgboost"
      ]
    },
    {
      "cell_type": "code",
      "execution_count": null,
      "id": "0623c5ea",
      "metadata": {
        "id": "0623c5ea",
        "outputId": "94a827d8-6e26-4ebb-e15d-3d760d19705a"
      },
      "outputs": [
        {
          "name": "stdout",
          "output_type": "stream",
          "text": [
            "Collecting xgboost\n",
            "  Downloading xgboost-2.0.3-py3-none-win_amd64.whl (99.8 MB)\n",
            "                                              0.0/99.8 MB ? eta -:--:--\n",
            "                                              0.5/99.8 MB 15.2 MB/s eta 0:00:07\n",
            "                                              1.8/99.8 MB 22.4 MB/s eta 0:00:05\n",
            "     -                                        3.3/99.8 MB 23.5 MB/s eta 0:00:05\n",
            "     --                                       5.1/99.8 MB 27.1 MB/s eta 0:00:04\n",
            "     --                                       7.4/99.8 MB 33.9 MB/s eta 0:00:03\n",
            "     ---                                      7.5/99.8 MB 28.3 MB/s eta 0:00:04\n",
            "     ---                                     10.1/99.8 MB 30.7 MB/s eta 0:00:03\n",
            "     ----                                    11.6/99.8 MB 36.4 MB/s eta 0:00:03\n",
            "     ----                                    12.7/99.8 MB 34.4 MB/s eta 0:00:03\n",
            "     -----                                   14.3/99.8 MB 34.4 MB/s eta 0:00:03\n",
            "     -----                                   15.0/99.8 MB 32.7 MB/s eta 0:00:03\n",
            "     ------                                  16.2/99.8 MB 31.2 MB/s eta 0:00:03\n",
            "     ------                                  17.6/99.8 MB 28.4 MB/s eta 0:00:03\n",
            "     -------                                 19.3/99.8 MB 31.2 MB/s eta 0:00:03\n",
            "     --------                                20.8/99.8 MB 31.2 MB/s eta 0:00:03\n",
            "     --------                                22.4/99.8 MB 31.2 MB/s eta 0:00:03\n",
            "     ---------                               23.6/99.8 MB 29.7 MB/s eta 0:00:03\n",
            "     ---------                               25.1/99.8 MB 29.7 MB/s eta 0:00:03\n",
            "     ----------                              26.4/99.8 MB 29.7 MB/s eta 0:00:03\n",
            "     ----------                              27.5/99.8 MB 31.2 MB/s eta 0:00:03\n",
            "     -----------                             29.1/99.8 MB 29.8 MB/s eta 0:00:03\n",
            "     -----------                             30.5/99.8 MB 29.7 MB/s eta 0:00:03\n",
            "     ------------                            31.8/99.8 MB 28.5 MB/s eta 0:00:03\n",
            "     ------------                            32.7/99.8 MB 28.5 MB/s eta 0:00:03\n",
            "     -------------                           34.1/99.8 MB 28.4 MB/s eta 0:00:03\n",
            "     -------------                           35.3/99.8 MB 27.3 MB/s eta 0:00:03\n",
            "     --------------                          36.5/99.8 MB 27.3 MB/s eta 0:00:03\n",
            "     --------------                          37.6/99.8 MB 26.2 MB/s eta 0:00:03\n",
            "     ---------------                         38.9/99.8 MB 26.2 MB/s eta 0:00:03\n",
            "     ---------------                         40.1/99.8 MB 27.3 MB/s eta 0:00:03\n",
            "     ----------------                        41.1/99.8 MB 25.2 MB/s eta 0:00:03\n",
            "     ----------------                        42.4/99.8 MB 27.3 MB/s eta 0:00:03\n",
            "     -----------------                       43.7/99.8 MB 25.2 MB/s eta 0:00:03\n",
            "     -----------------                       44.7/99.8 MB 24.2 MB/s eta 0:00:03\n",
            "     ------------------                      46.1/99.8 MB 25.1 MB/s eta 0:00:03\n",
            "     ------------------                      47.4/99.8 MB 25.2 MB/s eta 0:00:03\n",
            "     -------------------                     48.7/99.8 MB 26.2 MB/s eta 0:00:02\n",
            "     -------------------                     50.2/99.8 MB 26.2 MB/s eta 0:00:02\n",
            "     --------------------                    51.4/99.8 MB 27.3 MB/s eta 0:00:02\n",
            "     --------------------                    52.6/99.8 MB 26.2 MB/s eta 0:00:02\n",
            "     ---------------------                   53.9/99.8 MB 27.3 MB/s eta 0:00:02\n",
            "     ---------------------                   55.3/99.8 MB 27.3 MB/s eta 0:00:02\n",
            "     ----------------------                  56.7/99.8 MB 28.4 MB/s eta 0:00:02\n",
            "     ----------------------                  58.0/99.8 MB 28.5 MB/s eta 0:00:02\n",
            "     -----------------------                 59.3/99.8 MB 27.3 MB/s eta 0:00:02\n",
            "     -----------------------                 60.8/99.8 MB 29.7 MB/s eta 0:00:02\n",
            "     ------------------------                62.1/99.8 MB 28.4 MB/s eta 0:00:02\n",
            "     ------------------------                63.3/99.8 MB 27.3 MB/s eta 0:00:02\n",
            "     -------------------------               64.0/99.8 MB 26.2 MB/s eta 0:00:02\n",
            "     -------------------------               65.0/99.8 MB 25.2 MB/s eta 0:00:02\n",
            "     -------------------------               65.9/99.8 MB 24.2 MB/s eta 0:00:02\n",
            "     --------------------------              66.8/99.8 MB 23.4 MB/s eta 0:00:02\n",
            "     --------------------------              67.9/99.8 MB 23.4 MB/s eta 0:00:02\n",
            "     ---------------------------             69.1/99.8 MB 23.4 MB/s eta 0:00:02\n",
            "     ---------------------------             70.4/99.8 MB 23.4 MB/s eta 0:00:02\n",
            "     ----------------------------            71.8/99.8 MB 23.4 MB/s eta 0:00:02\n",
            "     ----------------------------            72.8/99.8 MB 22.6 MB/s eta 0:00:02\n",
            "     ----------------------------            73.7/99.8 MB 22.6 MB/s eta 0:00:02\n",
            "     -----------------------------           74.6/99.8 MB 23.4 MB/s eta 0:00:02\n",
            "     -----------------------------           75.6/99.8 MB 23.4 MB/s eta 0:00:02\n",
            "     -----------------------------           76.7/99.8 MB 24.2 MB/s eta 0:00:01\n",
            "     ------------------------------          77.5/99.8 MB 23.4 MB/s eta 0:00:01\n",
            "     ------------------------------          78.4/99.8 MB 21.8 MB/s eta 0:00:01\n",
            "     -------------------------------         79.6/99.8 MB 22.5 MB/s eta 0:00:01\n",
            "     -------------------------------         80.9/99.8 MB 23.4 MB/s eta 0:00:01\n",
            "     --------------------------------        82.3/99.8 MB 23.4 MB/s eta 0:00:01\n",
            "     --------------------------------        83.5/99.8 MB 23.4 MB/s eta 0:00:01\n",
            "     ---------------------------------       84.8/99.8 MB 23.4 MB/s eta 0:00:01\n",
            "     ---------------------------------       86.0/99.8 MB 25.2 MB/s eta 0:00:01\n",
            "     ----------------------------------      87.3/99.8 MB 26.2 MB/s eta 0:00:01\n",
            "     ----------------------------------      88.6/99.8 MB 28.5 MB/s eta 0:00:01\n",
            "     -----------------------------------     89.7/99.8 MB 27.3 MB/s eta 0:00:01\n",
            "     -----------------------------------     91.2/99.8 MB 28.4 MB/s eta 0:00:01\n",
            "     ------------------------------------    92.4/99.8 MB 27.3 MB/s eta 0:00:01\n",
            "     ------------------------------------    93.8/99.8 MB 28.4 MB/s eta 0:00:01\n",
            "     -------------------------------------   94.9/99.8 MB 27.3 MB/s eta 0:00:01\n",
            "     -------------------------------------   95.8/99.8 MB 28.4 MB/s eta 0:00:01\n",
            "     -------------------------------------   96.6/99.8 MB 27.3 MB/s eta 0:00:01\n",
            "     --------------------------------------  97.8/99.8 MB 26.2 MB/s eta 0:00:01\n",
            "     --------------------------------------  99.0/99.8 MB 26.2 MB/s eta 0:00:01\n",
            "     --------------------------------------  99.7/99.8 MB 27.3 MB/s eta 0:00:01\n",
            "     --------------------------------------  99.7/99.8 MB 27.3 MB/s eta 0:00:01\n",
            "     --------------------------------------  99.7/99.8 MB 27.3 MB/s eta 0:00:01\n",
            "     --------------------------------------  99.7/99.8 MB 27.3 MB/s eta 0:00:01\n",
            "     --------------------------------------  99.7/99.8 MB 27.3 MB/s eta 0:00:01\n",
            "     --------------------------------------- 99.8/99.8 MB 15.6 MB/s eta 0:00:00\n",
            "Requirement already satisfied: numpy in c:\\users\\gouth\\anaconda3\\lib\\site-packages (from xgboost) (1.24.3)\n",
            "Requirement already satisfied: scipy in c:\\users\\gouth\\anaconda3\\lib\\site-packages (from xgboost) (1.10.1)\n",
            "Installing collected packages: xgboost\n",
            "Successfully installed xgboost-2.0.3\n"
          ]
        }
      ],
      "source": [
        "# Install xgboost using pip directly in Jupyter Notebook\n",
        "!pip install xgboost\n"
      ]
    },
    {
      "cell_type": "code",
      "execution_count": null,
      "id": "acfa52cf",
      "metadata": {
        "id": "acfa52cf"
      },
      "outputs": [],
      "source": [
        "cols=['Total_Income','logtotal_income','EMI','Balance_Income']"
      ]
    },
    {
      "cell_type": "code",
      "execution_count": null,
      "id": "e88eb485",
      "metadata": {
        "id": "e88eb485"
      },
      "outputs": [],
      "source": [
        "from sklearn.preprocessing import StandardScaler #feature scaling\n",
        "st=StandardScaler()\n",
        "X[cols]=st.fit_transform(X[cols])"
      ]
    },
    {
      "cell_type": "code",
      "execution_count": null,
      "id": "42d24626",
      "metadata": {
        "id": "42d24626"
      },
      "outputs": [],
      "source": [
        "train['Dependents']=train['Dependents'].astype('int')\n",
        "test['Dependents']=test['Dependents'].astype('int')\n",
        "X['Dependents']=X['Dependents'].astype('int')\n",
        "train_x['Dependents']=train_x['Dependents'].astype('int')"
      ]
    },
    {
      "cell_type": "code",
      "execution_count": null,
      "id": "a9024e6c",
      "metadata": {
        "id": "a9024e6c",
        "outputId": "b7787efb-6d19-4350-bea8-9c4b0a860634"
      },
      "outputs": [
        {
          "name": "stdout",
          "output_type": "stream",
          "text": [
            "n1 of kfold 5\n",
            "accuracy_score 0.7967479674796748\n",
            "n2 of kfold 5\n",
            "accuracy_score 0.7479674796747967\n",
            "n3 of kfold 5\n",
            "accuracy_score 0.8373983739837398\n",
            "n4 of kfold 5\n",
            "accuracy_score 0.8130081300813008\n",
            "n5 of kfold 5\n",
            "accuracy_score 0.8524590163934426\n"
          ]
        }
      ],
      "source": [
        "from xgboost import XGBClassifier\n",
        "i=1\n",
        "sc=[]\n",
        "kf = StratifiedKFold(n_splits=5,random_state=5,shuffle=True)\n",
        "for train_index,test_index in kf.split(X,y):\n",
        "    print('n{} of kfold {}'.format(i,kf.n_splits))\n",
        "    train_x,val_x = X.loc[train_index],X.loc[test_index]\n",
        "    train_y,val_y = y[train_index],y[test_index]\n",
        "    model = XGBClassifier(\n",
        " learning_rate =0.01,\n",
        " n_estimators=100,\n",
        " max_depth=5,\n",
        " min_child_weight=7,\n",
        " gamma=0,\n",
        " subsample=0.8,\n",
        " colsample_bytree=0.8,\n",
        " objective= 'binary:logistic',\n",
        " nthread=4,\n",
        " scale_pos_weight=1,\n",
        " seed=27)\n",
        "    model.fit(train_x, train_y)\n",
        "    pred_test = model.predict(val_x)\n",
        "    score = accuracy_score(val_y,pred_test)\n",
        "    print('accuracy_score',score)\n",
        "    sc.append(score)\n",
        "    i+=1"
      ]
    },
    {
      "cell_type": "code",
      "execution_count": null,
      "id": "8c1fe863",
      "metadata": {
        "id": "8c1fe863",
        "outputId": "e63f11f1-6d55-46fe-bfc6-16b2c113fa89"
      },
      "outputs": [
        {
          "name": "stdout",
          "output_type": "stream",
          "text": [
            "mean: 0.8095161935225909\n"
          ]
        }
      ],
      "source": [
        "print('mean:',sum(sc)/len(sc))"
      ]
    },
    {
      "cell_type": "code",
      "execution_count": null,
      "id": "91aa5bb9",
      "metadata": {
        "scrolled": true,
        "id": "91aa5bb9",
        "outputId": "74835f6e-b167-4acf-eb28-85c68e0d106f"
      },
      "outputs": [
        {
          "data": {
            "text/plain": [
              "0.8524590163934426"
            ]
          },
          "execution_count": 80,
          "metadata": {},
          "output_type": "execute_result"
        }
      ],
      "source": [
        "pred_test_xg=model.predict(val_x)\n",
        "accuracy_score(val_y,pred_test_xg)"
      ]
    },
    {
      "cell_type": "code",
      "execution_count": null,
      "id": "bee07166",
      "metadata": {
        "id": "bee07166"
      },
      "outputs": [],
      "source": [
        "pred_testxgb=model.predict(test)"
      ]
    },
    {
      "cell_type": "code",
      "execution_count": null,
      "id": "f733c16d",
      "metadata": {
        "scrolled": true,
        "id": "f733c16d"
      },
      "outputs": [],
      "source": [
        "submission['Loan_Status']=pred_testxgb\n",
        "submission['Loan_ID']=test_original['Loan_ID']\n",
        "submission['Loan_Status'].replace(0, 'N',inplace=True)\n",
        "submission['Loan_Status'].replace(1, 'Y',inplace=True)"
      ]
    },
    {
      "cell_type": "code",
      "execution_count": null,
      "id": "cf8fd19f",
      "metadata": {
        "id": "cf8fd19f"
      },
      "outputs": [],
      "source": [
        "pd.DataFrame(submission, columns=['Loan_ID','Loan_Status']).to_csv('XGboost.csv')"
      ]
    },
    {
      "cell_type": "code",
      "execution_count": null,
      "id": "35745823",
      "metadata": {
        "id": "35745823",
        "outputId": "2ab873cf-821e-4be3-80f0-c250f7d1e4dd"
      },
      "outputs": [
        {
          "data": {
            "image/png": "[encoded data removed]",
            "text/plain": [
              "<Figure size 640x480 with 1 Axes>"
            ]
          },
          "metadata": {},
          "output_type": "display_data"
        }
      ],
      "source": [
        "importance=pd.Series(model.feature_importances_,index=X.columns).sort_values(ascending=True).plot(kind='barh')"
      ]
    },
    {
      "cell_type": "code",
      "execution_count": null,
      "id": "27bb2402",
      "metadata": {
        "id": "27bb2402"
      },
      "outputs": [],
      "source": [
        "X.drop(['Gender','Self_Employed'],axis=1,inplace=True)\n",
        "test.drop(['Gender','Self_Employed'],axis=1,inplace=True)"
      ]
    },
    {
      "cell_type": "code",
      "execution_count": null,
      "id": "0c06fdfb",
      "metadata": {
        "id": "0c06fdfb"
      },
      "outputs": [],
      "source": [
        "from sklearn.model_selection import train_test_split\n",
        "x_train,x_cv,y_train,y_cv= train_test_split(X,y,test_size=0.2)"
      ]
    },
    {
      "cell_type": "code",
      "execution_count": null,
      "id": "8f200b74",
      "metadata": {
        "id": "8f200b74",
        "outputId": "6504c50a-97ce-41e1-ec9c-81351ca6d568"
      },
      "outputs": [
        {
          "data": {
            "text/plain": [
              "0.8292682926829268"
            ]
          },
          "execution_count": 135,
          "metadata": {},
          "output_type": "execute_result"
        }
      ],
      "source": [
        "model1=XGBClassifier(\n",
        " learning_rate =0.01,\n",
        " n_estimators=100,\n",
        " max_depth=5,\n",
        " min_child_weight=7,\n",
        " gamma=0,\n",
        " subsample=0.8,\n",
        " colsample_bytree=0.8,\n",
        " objective= 'binary:logistic',\n",
        " nthread=4,\n",
        " scale_pos_weight=1,\n",
        " seed=27)\n",
        "model1.fit(x_train,y_train)\n",
        "pred_test=model.predict(x_cv)\n",
        "accuracy_score(y_cv,pred_test)"
      ]
    },
    {
      "cell_type": "code",
      "execution_count": null,
      "id": "0448a608",
      "metadata": {
        "id": "0448a608"
      },
      "outputs": [],
      "source": [
        "import pickle #saving the model\n",
        "pickle_out=open('classifier.pkl',mode='wb')\n",
        "pickle.dump(model,pickle_out)\n",
        "pickle_out.close()"
      ]
    },
    {
      "cell_type": "code",
      "execution_count": 1,
      "id": "3b4d1c7d",
      "metadata": {
        "colab": {
          "base_uri": "https://localhost:8080/"
        },
        "id": "3b4d1c7d",
        "outputId": "0d8cb2ad-1cc7-445a-8f3c-360b6ebf9db8"
      },
      "outputs": [
        {
          "output_type": "stream",
          "name": "stdout",
          "text": [
            "\u001b[2K     \u001b[90m━━━━━━━━━━━━━━━━━━━━━━━━━━━━━━━━━━━━━━━━\u001b[0m \u001b[32m8.4/8.4 MB\u001b[0m \u001b[31m14.0 MB/s\u001b[0m eta \u001b[36m0:00:00\u001b[0m\n",
            "\u001b[2K     \u001b[90m━━━━━━━━━━━━━━━━━━━━━━━━━━━━━━━━━━━━━━━━\u001b[0m \u001b[32m196.4/196.4 kB\u001b[0m \u001b[31m13.1 MB/s\u001b[0m eta \u001b[36m0:00:00\u001b[0m\n",
            "\u001b[2K     \u001b[90m━━━━━━━━━━━━━━━━━━━━━━━━━━━━━━━━━━━━━━━━\u001b[0m \u001b[32m4.8/4.8 MB\u001b[0m \u001b[31m27.1 MB/s\u001b[0m eta \u001b[36m0:00:00\u001b[0m\n",
            "\u001b[2K     \u001b[90m━━━━━━━━━━━━━━━━━━━━━━━━━━━━━━━━━━━━━━━━\u001b[0m \u001b[32m82.1/82.1 kB\u001b[0m \u001b[31m6.3 MB/s\u001b[0m eta \u001b[36m0:00:00\u001b[0m\n",
            "\u001b[2K     \u001b[90m━━━━━━━━━━━━━━━━━━━━━━━━━━━━━━━━━━━━━━━━\u001b[0m \u001b[32m62.7/62.7 kB\u001b[0m \u001b[31m2.2 MB/s\u001b[0m eta \u001b[36m0:00:00\u001b[0m\n",
            "\u001b[2K     \u001b[90m━━━━━━━━━━━━━━━━━━━━━━━━━━━━━━━━━━━━━━━━\u001b[0m \u001b[32m3.6/3.6 MB\u001b[0m \u001b[31m9.8 MB/s\u001b[0m eta \u001b[36m0:00:00\u001b[0m\n",
            "\u001b[?25h"
          ]
        }
      ],
      "source": [
        "!pip install -q pyngrok\n",
        "!pip install -q streamlit\n",
        "!pip install -q streamlit_ace"
      ]
    },
    {
      "cell_type": "code",
      "execution_count": 87,
      "id": "23fa1119",
      "metadata": {
        "colab": {
          "base_uri": "https://localhost:8080/"
        },
        "id": "23fa1119",
        "outputId": "90e92ffe-4945-486b-bf24-4da1b33e3792"
      },
      "outputs": [
        {
          "output_type": "stream",
          "name": "stdout",
          "text": [
            "Overwriting app.py\n"
          ]
        }
      ],
      "source": [
        "%%writefile app.py\n",
        "\n",
        "import pickle\n",
        "import streamlit as st\n",
        "import numpy as np\n",
        "\n",
        "# loading the trained model\n",
        "pickle_in = open('classifier.pkl1', 'rb')\n",
        "classifier = pickle.load(pickle_in)\n",
        "\n",
        "@st.cache_data()\n",
        "def prediction(Married, Education,\n",
        "               Credit_History, Property_Area, Total_Income, LoanAmount,Loan_Amount_Term,logtotal_income,EMI,Balance_Income):\n",
        "\n",
        "    EMI=(LoanAmount/Loan_Amount_Term)\n",
        "    Balance_Income=(Total_Income-EMI)\n",
        "    logtotal_income=np.log(Total_Income)\n",
        "    # Pre-processing user input\n",
        "    if Education == \"Not Graduate\":\n",
        "        Education = 0\n",
        "    else:\n",
        "        Education = 1\n",
        "\n",
        "    if Married == \"Unmarried\":\n",
        "        Married = 0\n",
        "    else:\n",
        "        Married = 1\n",
        "\n",
        "    if Credit_History == \"Unclear Debts\":\n",
        "        Credit_History = 0\n",
        "    else:\n",
        "        Credit_History = 1\n",
        "\n",
        "    if Property_Area == \"Rural\":\n",
        "        Property_Area = 0\n",
        "    elif Property_Area == \"Urban\":\n",
        "        Property_Area = 1\n",
        "    else:\n",
        "        Property_Area = 2\n",
        "\n",
        "    # Making predictions\n",
        "    prediction = classifier.predict([[Married, Education, Credit_History, Property_Area, Total_Income, LoanAmount,Loan_Amount_Term,logtotal_income,EMI,Balance_Income]])\n",
        "\n",
        "    if prediction == 0:\n",
        "        pred = 'Rejected'\n",
        "    else:\n",
        "        pred = 'Approved'\n",
        "    return pred\n",
        "\n",
        "# this is the main function in which we define our webpage\n",
        "def main():\n",
        "    # front end elements of the web page\n",
        "    html_temp = \"\"\"\n",
        "    <div style =\"background-color:yellow;padding:13px\">\n",
        "    <h1 style =\"color:black;text-align:center;\">Loan Prediction ML App</h1>\n",
        "    </div>\n",
        "    \"\"\"\n",
        "    # display the front end aspect\n",
        "    st.markdown(html_temp, unsafe_allow_html=True)\n",
        "\n",
        "    # following lines create boxes in which the user can enter data required to make a prediction\n",
        "    Married = st.selectbox('Marital Status', [\"Unmarried\", \"Married\"])\n",
        "    Education = st.selectbox('Education', [\"Not Graduate\", \"Graduate\"])\n",
        "    Credit_History = st.selectbox('Credit History', [\"Unclear Debts\", \"No Unclear Debts\"])\n",
        "    Property_Area = st.selectbox('Property Area', [\"Urban\", \"Semiurban\", \"Rural\"])\n",
        "    LoanAmount = st.number_input(\"Total Loan Amount\", min_value=0)\n",
        "    Total_Income = int(st.number_input(\"Total Monthly Income\", min_value=0))\n",
        "    Loan_Amount_Term=st.number_input(\"Loan Term\",min_value=1)\n",
        "    EMI=(LoanAmount/Loan_Amount_Term)\n",
        "    Balance_Income=(Total_Income-EMI)\n",
        "    logtotal_income=np.log(Total_Income)\n",
        "\n",
        "    # when 'Predict' is clicked, make the prediction and store it\n",
        "    if st.button(\"Predict\"):\n",
        "        result =prediction(Married, Education,\n",
        "               Credit_History, Property_Area, Total_Income, LoanAmount,Loan_Amount_Term,logtotal_income,EMI,Balance_Income)\n",
        "\n",
        "        # Styling for different colors and font size\n",
        "        if result == 'Rejected':\n",
        "            result_html = f'<p style=\"color:red; font-size:40px;\">Your loan is {result}</p>'\n",
        "        else:\n",
        "            result_html = f'<p style=\"color:green; font-size:40px;\">Your loan is {result}</p>'\n",
        "\n",
        "        # Display the result\n",
        "        st.markdown(result_html, unsafe_allow_html=True)\n",
        "\n",
        "if __name__=='__main__':\n",
        "    main()\n"
      ]
    },
    {
      "cell_type": "code",
      "execution_count": 76,
      "id": "b2b23c55",
      "metadata": {
        "id": "b2b23c55"
      },
      "outputs": [],
      "source": [
        "!streamlit run app.py &>/dev/null&"
      ]
    },
    {
      "cell_type": "code",
      "execution_count": 77,
      "id": "2da1f907",
      "metadata": {
        "colab": {
          "base_uri": "https://localhost:8080/"
        },
        "id": "2da1f907",
        "outputId": "fe7432be-b313-466c-c5ca-5adb9e14125f"
      },
      "outputs": [
        {
          "output_type": "execute_result",
          "data": {
            "text/plain": [
              "<NgrokTunnel: \"https://9a39-35-231-157-213.ngrok-free.app\" -> \"http://localhost:8501\">"
            ]
          },
          "metadata": {},
          "execution_count": 77
        }
      ],
      "source": [
        "from pyngrok import ngrok\n",
        "\n",
        "public_url = ngrok.connect('8501')\n",
        "public_url"
      ]
    },
    {
      "cell_type": "code",
      "execution_count": null,
      "id": "48da81ed",
      "metadata": {
        "id": "48da81ed"
      },
      "outputs": [],
      "source": [
        "%run -i app.py\n"
      ]
    },
    {
      "cell_type": "code",
      "execution_count": 9,
      "id": "211843a1",
      "metadata": {
        "colab": {
          "base_uri": "https://localhost:8080/"
        },
        "id": "211843a1",
        "outputId": "38804ed1-4bdf-40af-e416-72a63f4c32ab"
      },
      "outputs": [
        {
          "output_type": "stream",
          "name": "stdout",
          "text": [
            "Ngrok Tunnel \"http://127.0.0.1:4040\" -> \"NgrokTunnel: \"https://1c8f-35-231-157-213.ngrok-free.app\" -> \"http://localhost:8080\"\"\n"
          ]
        }
      ],
      "source": [
        "from pyngrok import ngrok\n",
        "\n",
        "# Set the authtoken to authenticate with ngrok\n",
        "ngrok.set_auth_token(\"2bno6JKvcry39gLg17dISBRjk5K_3MkH7XUFaTQzWvHYCeFFs\")\n",
        "\n",
        "# Connect to ngrok\n",
        "public_url = ngrok.connect('8080')\n",
        "print('Ngrok Tunnel \"http://127.0.0.1:4040\" -> \"{}\"'.format(public_url))\n"
      ]
    },
    {
      "cell_type": "code",
      "source": [
        "import os\n",
        "import pickle\n",
        "\n",
        "# Get the path to 'classifier.pkl' in the Colab environment\n",
        "file_path = '/content/classifier.pkl'  # Update this path based on the actual location in Colab\n",
        "\n",
        "# Check if the file exists\n",
        "if os.path.exists(file_path):\n",
        "    # Open the file in binary read mode\n",
        "    with open(file_path, 'rb') as pickle_file:\n",
        "        # Load the model from the pickled file\n",
        "        classifier = pickle.load(pickle_file)\n",
        "else:\n",
        "    print(f\"The file '{file_path}' does not exist.\")\n"
      ],
      "metadata": {
        "id": "GXL-WMBN-i-D"
      },
      "id": "GXL-WMBN-i-D",
      "execution_count": 8,
      "outputs": []
    }
  ],
  "metadata": {
    "kernelspec": {
      "display_name": "Python 3 (ipykernel)",
      "language": "python",
      "name": "python3"
    },
    "language_info": {
      "codemirror_mode": {
        "name": "ipython",
        "version": 3
      },
      "file_extension": ".py",
      "mimetype": "text/x-python",
      "name": "python",
      "nbconvert_exporter": "python",
      "pygments_lexer": "ipython3",
      "version": "3.11.3"
    },
    "colab": {
      "provenance": []
    }
  },
  "nbformat": 4,
  "nbformat_minor": 5
}